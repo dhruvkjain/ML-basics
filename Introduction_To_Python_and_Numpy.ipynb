{
  "nbformat": 4,
  "nbformat_minor": 0,
  "metadata": {
    "colab": {
      "provenance": []
    },
    "kernelspec": {
      "name": "python3",
      "display_name": "Python 3"
    },
    "language_info": {
      "name": "python"
    }
  },
  "cells": [
    {
      "cell_type": "markdown",
      "source": [
        "## **What is Python ?**\n",
        "> Python is a popular, open source high-level programming language released in 1991. It is a platform independent ***interpreted*** language.\n",
        "\n",
        "## **What can it be used for ?**\n",
        "*   Data Science\n",
        "*   Machine Learning & AI\n",
        "*   Web Development (Server Side)\n",
        "*   GUI Development\n",
        "*   Scientific & Numeric Programming\n",
        "\n",
        "## **Why Python ?**\n",
        "1.   Simple, easy-to-learn syntax\n",
        "2.  There exists inbuilt functions for almost all of the frequently used concepts.\n",
        "3.   Supports a wide array of third-party modules and libraries\n"
      ],
      "metadata": {
        "id": "PLVDNGmSISCr"
      }
    },
    {
      "cell_type": "markdown",
      "source": [
        "# **Hello World! in C++**\n",
        "```\n",
        "#include <stdio.h>\n",
        "\n",
        "int main(){\n",
        "    cout<<\"Hello World!\"<<endl;\n",
        "    return 0;\n",
        "}\n",
        "```"
      ],
      "metadata": {
        "id": "N6-hq_DQI4Vt"
      }
    },
    {
      "cell_type": "markdown",
      "source": [
        "# **Python vs. C/C++**\n",
        "\n",
        "1. No  `;` in Python!\n",
        "\n",
        "Unlike C/C++ a python statement does not require a `;` to terminate. But, every python statement must be placed in a new line.\n",
        "\n",
        "2. No `{ }` in Python!\n",
        "\n",
        "Python does not use `{ }` to define blocks in code like in C/C++. Instead, python brings a new headache of ***Indentation***."
      ],
      "metadata": {
        "id": "BadRa-FIJcSq"
      }
    },
    {
      "cell_type": "markdown",
      "source": [
        "## Writing our first program\n",
        "\n"
      ],
      "metadata": {
        "id": "YEHT8AcKE0Bk"
      }
    },
    {
      "cell_type": "code",
      "source": [
        "#Script begins from here\n",
        "print('Hello, World')\n",
        "# Thats all, no imports required"
      ],
      "metadata": {
        "colab": {
          "base_uri": "https://localhost:8080/"
        },
        "id": "7yD3wOd_E3GW",
        "outputId": "725aa6ef-8472-4738-966d-39e11fac01f8"
      },
      "execution_count": 1,
      "outputs": [
        {
          "output_type": "stream",
          "name": "stdout",
          "text": [
            "Hello, World\n"
          ]
        }
      ]
    },
    {
      "cell_type": "markdown",
      "source": [
        "* The `print()` function also takes two other optional arguements:\n",
        "1. **sep** = *'separator'* : Specify how to separate two objects. Set to ' ' by default.\n",
        "2. **end** = *'end'* : Specify what to print at the end of line. Set to '\\n' by default."
      ],
      "metadata": {
        "id": "3kx340CkqMHc"
      }
    },
    {
      "cell_type": "code",
      "source": [
        "print('Hello', 'World', sep=\"\")\n",
        "print('Hello', 'World')"
      ],
      "metadata": {
        "id": "HZJC4BeRCTwx",
        "colab": {
          "base_uri": "https://localhost:8080/"
        },
        "outputId": "6abdb8af-8ba8-49a7-d24e-470080546eac"
      },
      "execution_count": 2,
      "outputs": [
        {
          "output_type": "stream",
          "name": "stdout",
          "text": [
            "HelloWorld\n",
            "Hello World\n"
          ]
        }
      ]
    },
    {
      "cell_type": "code",
      "source": [
        "print(\"Hello\", end=\"\")\n",
        "print(\"World!\")"
      ],
      "metadata": {
        "id": "tqIPrJBUJ9rU",
        "outputId": "d67f7de1-511c-4905-a987-ca2d0751eba9",
        "colab": {
          "base_uri": "https://localhost:8080/"
        }
      },
      "execution_count": 3,
      "outputs": [
        {
          "output_type": "stream",
          "name": "stdout",
          "text": [
            "HelloWorld!\n"
          ]
        }
      ]
    },
    {
      "cell_type": "code",
      "source": [
        "#Writing two statements in the same line is invalid in python but not in C/C++\n",
        "a=1\n",
        "b=5\n",
        "print(a+b)"
      ],
      "metadata": {
        "colab": {
          "base_uri": "https://localhost:8080/"
        },
        "id": "cv052RIhJrQs",
        "outputId": "ef87599d-dca5-444a-8640-a45e1eb77716"
      },
      "execution_count": 4,
      "outputs": [
        {
          "output_type": "stream",
          "name": "stdout",
          "text": [
            "6\n"
          ]
        }
      ]
    },
    {
      "cell_type": "markdown",
      "source": [
        "# **Indentation**"
      ],
      "metadata": {
        "id": "AeZ_6-auKvip"
      }
    },
    {
      "cell_type": "markdown",
      "source": [
        "1. Python uses the idea of indentation to highlight the blocks of code. While in C/C++ or other programming languages it is just for the sake of code readability.\n",
        "\n",
        "2. Wrong indentation can cause **undetectable** errors to your code.\n"
      ],
      "metadata": {
        "id": "2IhvekkNK66d"
      }
    },
    {
      "cell_type": "code",
      "source": [
        "# Python program to show indentation\n",
        "x=10\n",
        "if x>13:\n",
        "  print('Hello')\n",
        "else:\n",
        "  print('World')\n",
        "print('This is indentation')"
      ],
      "metadata": {
        "colab": {
          "base_uri": "https://localhost:8080/"
        },
        "id": "91wHAsvBLnjs",
        "outputId": "b2c559db-2e73-4476-fef2-9b97bd343ca2"
      },
      "execution_count": 5,
      "outputs": [
        {
          "output_type": "stream",
          "name": "stdout",
          "text": [
            "World\n",
            "This is indentation\n"
          ]
        }
      ]
    },
    {
      "cell_type": "markdown",
      "source": [
        "## **Variables in Python**\n",
        "\n",
        "*   Python has no command to declare variable. Like 'int x=10;'.\n",
        "*   But the rules for variable naming are similar to that in C/C++. A variable name can contain only alphanumeric characters and underscores and cannot start with a number. They are case-sensitive.\n",
        "*  Variables do not require a data type when initialized and data type of any variable can be changed as required.\n",
        "* A variable is created whenever it is initialized.\n"
      ],
      "metadata": {
        "id": "H-bdOCPQP_iu"
      }
    },
    {
      "cell_type": "code",
      "source": [
        "x=222222222222222222222222222222222222222222222222222222222222222\n",
        "print(x)"
      ],
      "metadata": {
        "colab": {
          "base_uri": "https://localhost:8080/"
        },
        "id": "aS8rg3f1RZzN",
        "outputId": "7e62b432-1dab-47a9-d85c-1f64474955cd"
      },
      "execution_count": 6,
      "outputs": [
        {
          "output_type": "stream",
          "name": "stdout",
          "text": [
            "222222222222222222222222222222222222222222222222222222222222222\n"
          ]
        }
      ]
    },
    {
      "cell_type": "markdown",
      "source": [
        "\n",
        "\n",
        "*   Multiple variables can be initialized in a single statement. For eg.\n"
      ],
      "metadata": {
        "id": "PnVLFmmaRs49"
      }
    },
    {
      "cell_type": "code",
      "source": [
        "x,y,z=1, 2.2, \"Hello\"\n",
        "print(x,y,z)"
      ],
      "metadata": {
        "colab": {
          "base_uri": "https://localhost:8080/"
        },
        "id": "sY0ZDvY6SA5G",
        "outputId": "e130a784-efc8-4e3a-e6e2-a74a5e18bc1b"
      },
      "execution_count": 7,
      "outputs": [
        {
          "output_type": "stream",
          "name": "stdout",
          "text": [
            "1 2.2 Hello\n"
          ]
        }
      ]
    },
    {
      "cell_type": "markdown",
      "source": [
        "# Operators in Python"
      ],
      "metadata": {
        "id": "xC2erF9XLEfo"
      }
    },
    {
      "cell_type": "markdown",
      "source": [
        "## **Arithmetic Operators**\n",
        "\n",
        "Operator | Name\n",
        "--- | ---\n",
        "`+` | Addition\n",
        "`-` | Subtraction\n",
        "`*` | Multiplication\n",
        "`/` | Division\n",
        "`%` | Modulus\n",
        "`**`| Exponentiation (Power)\n",
        "`//`| Floor division"
      ],
      "metadata": {
        "id": "6A8hSCrGX5J7"
      }
    },
    {
      "cell_type": "code",
      "source": [
        "# Arithmetic Operators\n",
        "x=10\n",
        "y=4\n",
        "print(x+y) # Addition Operator\n",
        "print(x-y) # Subtraction Operator\n",
        "print(x*y) # Multiplication Operator\n",
        "print(x/y) # Division Operator\n",
        "print(x//y) # Floor Division Operator\n",
        "print(x**y) # pow(x,y)"
      ],
      "metadata": {
        "colab": {
          "base_uri": "https://localhost:8080/"
        },
        "id": "sfqlbBraSiUu",
        "outputId": "616e46e9-3157-4032-f80f-4aa73bc1d31d"
      },
      "execution_count": 8,
      "outputs": [
        {
          "output_type": "stream",
          "name": "stdout",
          "text": [
            "14\n",
            "6\n",
            "40\n",
            "2.5\n",
            "2\n",
            "10000\n"
          ]
        }
      ]
    },
    {
      "cell_type": "markdown",
      "source": [
        "## **Assignment Operators**\n",
        "\n",
        "Operator &emsp; &emsp;| Use  &emsp;  &emsp;  &emsp;   | Equivalent\n",
        "---- |----------|------------\n",
        "`=`  | \tx = 7   |   x = 7\n",
        "`+=` |\tx += 7  | \tx = x + 7\n",
        "`-=` |\tx -= 7  | \tx = x - 7\n",
        "`*=` |\tx \\*= 7 |\tx = x * 7\n",
        "`/=` |\tx /= 7  |\tx = x / 7\n",
        "`%=` |\tx %= 7  |\tx = x % 7\n",
        "`//=`|\tx //= 7 |\tx = x // 7\n",
        "`**=`|\tx **= 7 |\tx = x ** 7\n",
        "`&=` |\tx &= 7  |\tx = x & 7\n",
        "`\\|=`|\tx \\|= 7 |   x = x \\| 7\n",
        "`^=` |\tx ^= 7  |\tx = x ^ 7\n",
        "`>>=`|\tx >>= 7 |\tx = x >> 7\n",
        "`<<=`|\tx <<= 7 |\tx = x << 7"
      ],
      "metadata": {
        "id": "KPgwZAPpXrKU"
      }
    },
    {
      "cell_type": "code",
      "source": [
        "# Assignment Operators\n",
        "x = 4;\n",
        "x **= 3;\n",
        "print(x)"
      ],
      "metadata": {
        "id": "eUmaAPW_UFSV",
        "colab": {
          "base_uri": "https://localhost:8080/"
        },
        "outputId": "b8268d5e-11b0-4b56-8adf-54dddb5111e6"
      },
      "execution_count": 9,
      "outputs": [
        {
          "output_type": "stream",
          "name": "stdout",
          "text": [
            "64\n"
          ]
        }
      ]
    },
    {
      "cell_type": "markdown",
      "source": [
        "## **Python Logical Operators**\n",
        "\n",
        "* In python logical operators are used directly by name. We do not have `&&` and `||` in python.\n",
        "\n",
        "Operator | Description | Example\n",
        "---|---|---\n",
        "`and` | True if both conditions are true |\tx < 4 and  x < 14\n",
        "`or`\t| True if any one of the condition is true |\tx < 10 or x > 20\n",
        "`not`\t| Returns False if the result is True and vice versa &nbsp;|\tnot(x < 5 and x < 10)"
      ],
      "metadata": {
        "id": "x_7OlCRnYLRZ"
      }
    },
    {
      "cell_type": "code",
      "source": [
        "# Logical Operators\n",
        "# In python we use logical operators directly by their name instead of && and ||\n",
        "\n",
        "x=10\n",
        "if x>5 and x<15:\n",
        "  print('Hello')\n",
        "if x>15 or x<20:\n",
        "  print('World')"
      ],
      "metadata": {
        "id": "XpITRXc6UOP6",
        "colab": {
          "base_uri": "https://localhost:8080/"
        },
        "outputId": "7a332e17-be1d-4ae9-c869-a9cc307171c5"
      },
      "execution_count": 10,
      "outputs": [
        {
          "output_type": "stream",
          "name": "stdout",
          "text": [
            "Hello\n",
            "World\n"
          ]
        }
      ]
    },
    {
      "cell_type": "markdown",
      "source": [
        "## **Taking input in python**"
      ],
      "metadata": {
        "id": "omJSJOOlMX-1"
      }
    },
    {
      "cell_type": "markdown",
      "source": [
        "Taking input in python is fairly easy and we use the input() function to do so"
      ],
      "metadata": {
        "id": "LjPBLLaTWPsf"
      }
    },
    {
      "cell_type": "code",
      "source": [
        "name = input(\"What is your name ? \")\n",
        "print(\"Welcome \" + name)"
      ],
      "metadata": {
        "colab": {
          "base_uri": "https://localhost:8080/"
        },
        "id": "6IJ55JStWgGR",
        "outputId": "2c3b763a-5c40-4302-88c2-e3210d3a195c"
      },
      "execution_count": 12,
      "outputs": [
        {
          "output_type": "stream",
          "name": "stdout",
          "text": [
            "What is your name ? hello\n",
            "Welcome hello\n"
          ]
        }
      ]
    },
    {
      "cell_type": "code",
      "source": [
        "x= input()\n",
        "print(x, type(x)) # Input is taken by default in string type, so we need to typecast."
      ],
      "metadata": {
        "colab": {
          "base_uri": "https://localhost:8080/"
        },
        "id": "PrMzsg-mWqkg",
        "outputId": "373b4ae8-a649-4d82-cc1c-7e4ea471e5d9"
      },
      "execution_count": 13,
      "outputs": [
        {
          "output_type": "stream",
          "name": "stdout",
          "text": [
            "hello\n",
            "hello <class 'str'>\n"
          ]
        }
      ]
    },
    {
      "cell_type": "markdown",
      "source": [
        "##**Type Casting**\n",
        "\n",
        "* Type casting can be used to convert variables from one type to another."
      ],
      "metadata": {
        "id": "3DkDYpnCMtl1"
      }
    },
    {
      "cell_type": "code",
      "source": [
        "x = float(input(\"Enter a number: \"))\n",
        "print(x + 10)"
      ],
      "metadata": {
        "colab": {
          "base_uri": "https://localhost:8080/"
        },
        "id": "GiSCyxRSXVTl",
        "outputId": "3893cad8-31e5-4de0-f40f-6c63a676d099"
      },
      "execution_count": 14,
      "outputs": [
        {
          "output_type": "stream",
          "name": "stdout",
          "text": [
            "Enter a number: 5\n",
            "15.0\n"
          ]
        }
      ]
    },
    {
      "cell_type": "markdown",
      "source": [
        "Type casting can be mainly done with these data type function:\n",
        "* `str()` : Convert int or float type to string\n",
        "* `int()` : Convert string or float type to integer\n",
        "* `float()` : Convert string or int type to float"
      ],
      "metadata": {
        "id": "XbWyHBO5XaUq"
      }
    },
    {
      "cell_type": "code",
      "source": [
        "x_int = 10\n",
        "x_str = \"12\"\n",
        "x_float = 14.7\n",
        "\n",
        "# str()\n",
        "print(\"Result: \" + str(x_int));\n",
        "print(\"Result: \" + str(x_float));\n",
        "print('')\n",
        "\n",
        "# int()\n",
        "print(3 + x_float)\n",
        "print(3 + int(x_float))\n",
        "print(4 + int(x_str), type(int(x_str)))\n",
        "print('')\n",
        "\n",
        "# float()\n",
        "print(1.2 + float(x_int), type(float(x_int)))\n",
        "print(1.3 + float(x_str))\n",
        "print('')\n",
        "\n",
        "# original variable types\n",
        "print(type(x_int), type(x_str), type(x_float))"
      ],
      "metadata": {
        "colab": {
          "base_uri": "https://localhost:8080/"
        },
        "id": "m9uVsvlNXdUA",
        "outputId": "ae496e8b-e9c6-4ed3-82d3-8f50636c51c0"
      },
      "execution_count": 15,
      "outputs": [
        {
          "output_type": "stream",
          "name": "stdout",
          "text": [
            "Result: 10\n",
            "Result: 14.7\n",
            "\n",
            "17.7\n",
            "17\n",
            "16 <class 'int'>\n",
            "\n",
            "11.2 <class 'float'>\n",
            "13.3\n",
            "\n",
            "<class 'int'> <class 'str'> <class 'float'>\n"
          ]
        }
      ]
    },
    {
      "cell_type": "markdown",
      "source": [
        "* One must note that the type casting functions do not change the type of the original variable but instead return a new value of the desired type. To change type of the original variable one can use,"
      ],
      "metadata": {
        "id": "pdKhCw1dXjJ4"
      }
    },
    {
      "cell_type": "code",
      "source": [
        "x = \"10\"\n",
        "print(type(x))\n",
        "y = int(x)\n",
        "print(type(x), type(y))"
      ],
      "metadata": {
        "colab": {
          "base_uri": "https://localhost:8080/"
        },
        "id": "1q1NOd3CXkAm",
        "outputId": "010775c2-a954-43c9-bf86-04dc3a04c410"
      },
      "execution_count": 16,
      "outputs": [
        {
          "output_type": "stream",
          "name": "stdout",
          "text": [
            "<class 'str'>\n",
            "<class 'str'> <class 'int'>\n"
          ]
        }
      ]
    },
    {
      "cell_type": "markdown",
      "source": [
        "## Coding Problem - 1"
      ],
      "metadata": {
        "id": "WAx_O-RUS1n1"
      }
    },
    {
      "cell_type": "code",
      "source": [
        "# Write a program that takes a user's name and age as input and prints a Hello World! message that includes their name and age.\n",
        "name = input('Enter name :')\n",
        "age = int(input('Enter age :'))\n",
        "print('Hello World!')\n",
        "print('Name :', name)\n",
        "print('Age : ', age)"
      ],
      "metadata": {
        "id": "EuPLCH6WS6eG",
        "outputId": "51d476ea-37e7-49c0-eff8-c333943b2509",
        "colab": {
          "base_uri": "https://localhost:8080/"
        }
      },
      "execution_count": 18,
      "outputs": [
        {
          "output_type": "stream",
          "name": "stdout",
          "text": [
            "Enter name :hello\n",
            "Enter age :34\n",
            "Hello World!\n",
            "Name : hello\n",
            "Age :  34\n"
          ]
        }
      ]
    },
    {
      "cell_type": "code",
      "source": [
        "# Create a program that swaps the values of two variables without using a third variable.\n",
        "num1 = int(input('Enter 1st number :'))\n",
        "num2 = int(input('Enter 2nd number :'))\n",
        "num1 = num1 + num2\n",
        "num2 = num1 - num2\n",
        "num1 = num1 - num2\n",
        "print(num1 , num2)"
      ],
      "metadata": {
        "id": "GDM0iGNXTEfT",
        "outputId": "e1e05ffc-cacf-40a9-cc8c-7fe36b59b6ad",
        "colab": {
          "base_uri": "https://localhost:8080/"
        }
      },
      "execution_count": 20,
      "outputs": [
        {
          "output_type": "stream",
          "name": "stdout",
          "text": [
            "Enter 1st number :23\n",
            "Enter 2nd number :34\n",
            "34 23\n"
          ]
        }
      ]
    },
    {
      "cell_type": "markdown",
      "source": [
        "# **Strings in Python**\n",
        "\n",
        "* Any data within double quotes `\" \"` or single quotes `' '` is treated as a string in Python.\n"
      ],
      "metadata": {
        "id": "7ipifTRTQ1wa"
      }
    },
    {
      "cell_type": "code",
      "source": [
        "myString = 'Python is Fun!'\n",
        "myString = \"Python is Fun!\""
      ],
      "metadata": {
        "id": "yVb4UORzRCGu"
      },
      "execution_count": 22,
      "outputs": []
    },
    {
      "cell_type": "markdown",
      "source": [
        "* A multiline string can be assigned to a variable using three quotes."
      ],
      "metadata": {
        "id": "xcUwB6ZZRCyL"
      }
    },
    {
      "cell_type": "code",
      "source": [
        "myMultiString = \"\"\"This is\n",
        "a multiline\n",
        "string.\"\"\"\n",
        "print(myMultiString)"
      ],
      "metadata": {
        "id": "vUYafE2_RFf2",
        "colab": {
          "base_uri": "https://localhost:8080/"
        },
        "outputId": "f9f8f4b8-0661-407d-a03d-7f51d62beb2b"
      },
      "execution_count": 23,
      "outputs": [
        {
          "output_type": "stream",
          "name": "stdout",
          "text": [
            "This is\n",
            "a multiline\n",
            "string.\n"
          ]
        }
      ]
    },
    {
      "cell_type": "markdown",
      "source": [
        "* Using this as a workaround, we can simply enclose code between three quotes (single or double) to commment them. Python will treat it as a string which is not assigned to any variable and will hence ignore it.\n"
      ],
      "metadata": {
        "id": "3KO8xq6ARP3u"
      }
    },
    {
      "cell_type": "code",
      "source": [
        "'''\n",
        "print(\"Hello!\")\n",
        "print(\"World\")\n",
        "'''\n",
        "print(\"I Love Python!\")"
      ],
      "metadata": {
        "id": "IfznS99WRS1f",
        "colab": {
          "base_uri": "https://localhost:8080/"
        },
        "outputId": "8d600812-1879-42db-bdc3-8abe17ad6b21"
      },
      "execution_count": 24,
      "outputs": [
        {
          "output_type": "stream",
          "name": "stdout",
          "text": [
            "I Love Python!\n"
          ]
        }
      ]
    },
    {
      "cell_type": "markdown",
      "source": [
        "* Python is packed with many string ***methods*** which make working with strings very easy."
      ],
      "metadata": {
        "id": "DaIvZ_d4RXnz"
      }
    },
    {
      "cell_type": "code",
      "source": [
        "s1 = \"Thisisastring\"\n",
        "\n",
        "# Formatting\n",
        "print(s1.upper())\n",
        "print(s1.lower())\n",
        "print(s1.swapcase())\n",
        "print()\n",
        "\n",
        "# Boolean checks\n",
        "print(s1.isalpha())\n",
        "print(s1.isnumeric())"
      ],
      "metadata": {
        "id": "lmYyoeT_RYzy",
        "colab": {
          "base_uri": "https://localhost:8080/"
        },
        "outputId": "d5bfe99a-333a-4afd-90d3-0016fa90c2dc"
      },
      "execution_count": 25,
      "outputs": [
        {
          "output_type": "stream",
          "name": "stdout",
          "text": [
            "THISISASTRING\n",
            "thisisastring\n",
            "tHISISASTRING\n",
            "\n",
            "True\n",
            "False\n"
          ]
        }
      ]
    },
    {
      "cell_type": "markdown",
      "source": [
        "## **`split()` and `join()` string methods**\n",
        "\n",
        "* `split()` : Splits the string in chunks separated by the input arguement.\n",
        "* `join()` : Joins the items in iterable given as arguement, with the calling string as separator and returns new string."
      ],
      "metadata": {
        "id": "fGhp-TQXRcVg"
      }
    },
    {
      "cell_type": "code",
      "source": [
        "sample = \"Python_is_Fun!\"\n",
        "stringList = sample.split('_')   #Default separator is ' '\n",
        "print(stringList)"
      ],
      "metadata": {
        "id": "U6bnGE7QRfk1",
        "colab": {
          "base_uri": "https://localhost:8080/"
        },
        "outputId": "14b52c52-2ecf-421f-bfc7-5349b17d6509"
      },
      "execution_count": 26,
      "outputs": [
        {
          "output_type": "stream",
          "name": "stdout",
          "text": [
            "['Python', 'is', 'Fun!']\n"
          ]
        }
      ]
    },
    {
      "cell_type": "code",
      "source": [
        "separator = \"_\"\n",
        "joinedStr = \"++++\".join(stringList)  # stringList is a python iterable\n",
        "print(joinedStr)"
      ],
      "metadata": {
        "id": "aIDyceArRkt8",
        "colab": {
          "base_uri": "https://localhost:8080/"
        },
        "outputId": "8ab03275-66d5-4f85-8d0e-4c0fa074ee01"
      },
      "execution_count": 27,
      "outputs": [
        {
          "output_type": "stream",
          "name": "stdout",
          "text": [
            "Python++++is++++Fun!\n"
          ]
        }
      ]
    },
    {
      "cell_type": "markdown",
      "metadata": {
        "id": "TAcvS5CXwc55"
      },
      "source": [
        "# **Python Loops**\n",
        "\n",
        "\n"
      ]
    },
    {
      "cell_type": "markdown",
      "metadata": {
        "id": "ckYq3agCzvWx"
      },
      "source": [
        "## **While Loop**\n",
        "* The while loop will execute the code block as long as the given condition is true."
      ]
    },
    {
      "cell_type": "code",
      "execution_count": 28,
      "metadata": {
        "colab": {
          "base_uri": "https://localhost:8080/"
        },
        "id": "d16yQYCvw2zQ",
        "outputId": "25362ba5-4ada-41a9-b315-c0f7f63d243d"
      },
      "outputs": [
        {
          "output_type": "stream",
          "name": "stdout",
          "text": [
            "10 9 8 7 6 5 4 3 2 1 "
          ]
        }
      ],
      "source": [
        "counter = 10\n",
        "while counter > 0:\n",
        "    print(counter, end=' ')\n",
        "    counter -= 1                # Python does not support counter --"
      ]
    },
    {
      "cell_type": "markdown",
      "metadata": {
        "id": "8kjyQ928xKYR"
      },
      "source": [
        "### `break` statement :\n",
        " Used to break out of the loop without the loop condition being evaluated to false."
      ]
    },
    {
      "cell_type": "code",
      "execution_count": 29,
      "metadata": {
        "colab": {
          "base_uri": "https://localhost:8080/"
        },
        "id": "T1zyp4nBxWWl",
        "outputId": "348cffdf-bb6d-4afe-f1f0-fdfc8a53c7cc"
      },
      "outputs": [
        {
          "output_type": "stream",
          "name": "stdout",
          "text": [
            "10 9 8 7 6 5 "
          ]
        }
      ],
      "source": [
        "counter = 10\n",
        "while counter > 0:\n",
        "    print(counter, end=' ')\n",
        "    if counter == 5:\n",
        "        break\n",
        "    counter -= 1\n",
        "#print('\\n',counter) Can anyone guess the value of the counter here?"
      ]
    },
    {
      "cell_type": "markdown",
      "metadata": {
        "id": "dX4qUnoaxmLh"
      },
      "source": [
        "### `continue` statement:\n",
        "Used to *continue* the next iteration of the loop without executing the lines after this statement.\n"
      ]
    },
    {
      "cell_type": "code",
      "execution_count": 30,
      "metadata": {
        "colab": {
          "base_uri": "https://localhost:8080/"
        },
        "id": "DM0uIKyXxhlt",
        "outputId": "6dbe026e-c234-4e03-ac2c-2789c4693828"
      },
      "outputs": [
        {
          "output_type": "stream",
          "name": "stdout",
          "text": [
            "10 8 6 4 2 "
          ]
        }
      ],
      "source": [
        "counter = 10\n",
        "while counter > 0:\n",
        "    if counter%2 == 1:\n",
        "        counter -= 1\n",
        "        continue                    # Can you spot a bug in this code ?\n",
        "    print(counter, end=' ')\n",
        "    counter -= 1"
      ]
    },
    {
      "cell_type": "markdown",
      "metadata": {
        "id": "gRM9XY6lyay1"
      },
      "source": [
        "### `else` statement in Loop\n",
        "\n",
        "In python, we can write an `else` block after the loop. This block is executed once the loop condition evaluates to false."
      ]
    },
    {
      "cell_type": "code",
      "execution_count": 31,
      "metadata": {
        "colab": {
          "base_uri": "https://localhost:8080/"
        },
        "id": "ZsobmxJ8y4hV",
        "outputId": "0be05dc6-bf2d-4e33-f755-7eac8fa776a4"
      },
      "outputs": [
        {
          "output_type": "stream",
          "name": "stdout",
          "text": [
            "10 "
          ]
        }
      ],
      "source": [
        "counter = 10\n",
        "while counter > 0:\n",
        "    print(counter, end=' ')\n",
        "    break\n",
        "    counter -= 1\n",
        "else:\n",
        "    print(\"\\nFinal Counter:\", counter)"
      ]
    },
    {
      "cell_type": "markdown",
      "metadata": {
        "id": "m7A3r_O-zchj"
      },
      "source": [
        "* If `break` statement is used to exit loop, `else` block will NOT be executed."
      ]
    },
    {
      "cell_type": "markdown",
      "metadata": {
        "id": "zbNwiHOAzz4Z"
      },
      "source": [
        "## **For Loop**\n",
        "* The for loop is usually executed for a range of numbers or items.\n"
      ]
    },
    {
      "cell_type": "code",
      "execution_count": 32,
      "metadata": {
        "colab": {
          "base_uri": "https://localhost:8080/"
        },
        "id": "D-8jomOi0JoP",
        "outputId": "6a90c986-424a-4269-82ad-ca8fd6392368"
      },
      "outputs": [
        {
          "output_type": "stream",
          "name": "stdout",
          "text": [
            "Python\n",
            "C\n",
            "Ruby\n",
            "Java\n"
          ]
        }
      ],
      "source": [
        "lang = [\"Python\", \"C\", \"Ruby\", \"Java\"]\n",
        "for x in lang:             # x serves as a temp variable\n",
        "    print(x)"
      ]
    },
    {
      "cell_type": "code",
      "execution_count": 33,
      "metadata": {
        "colab": {
          "base_uri": "https://localhost:8080/"
        },
        "id": "JY_Z9A2F0p4y",
        "outputId": "adcb2ae7-4ada-4c18-e78b-3329fee54021"
      },
      "outputs": [
        {
          "output_type": "stream",
          "name": "stdout",
          "text": [
            "I\n",
            "n\n",
            "d\n",
            "i\n",
            "a\n"
          ]
        }
      ],
      "source": [
        "# Looping through a string\n",
        "for c in \"India\":\n",
        "  print(c)"
      ]
    },
    {
      "cell_type": "markdown",
      "metadata": {
        "id": "SIDTd8Th0kky"
      },
      "source": [
        "### **`range()` function**\n",
        "\n",
        "* The `range(start, end, step)` function is used to create a sequence of numbers from `start` to `end` with an increment of `step`.\n",
        "* `end` is not included in the sequence.\n",
        "\n",
        "`range()` can be used in three ways:"
      ]
    },
    {
      "cell_type": "code",
      "execution_count": 34,
      "metadata": {
        "colab": {
          "base_uri": "https://localhost:8080/"
        },
        "id": "ahsmnHLR1rYL",
        "outputId": "72670b6e-66e7-44cf-ed49-6f8f6256429c"
      },
      "outputs": [
        {
          "output_type": "stream",
          "name": "stdout",
          "text": [
            "0 1 2 3 4 "
          ]
        }
      ],
      "source": [
        "# If only a single arguement is given, range defaults start value to 0.\n",
        "# Value of step is taken 1 by default.\n",
        "\n",
        "for i in range(5):\n",
        "    print(i, end=\" \")"
      ]
    },
    {
      "cell_type": "code",
      "execution_count": 35,
      "metadata": {
        "colab": {
          "base_uri": "https://localhost:8080/"
        },
        "id": "qVJb5Wki2c9y",
        "outputId": "dc196f68-22bd-4a7f-8bf5-524546c10152"
      },
      "outputs": [
        {
          "output_type": "stream",
          "name": "stdout",
          "text": [
            "2 3 4 5 6 "
          ]
        }
      ],
      "source": [
        "for i in range(2, 7):\n",
        "    print(i, end=\" \")"
      ]
    },
    {
      "cell_type": "code",
      "execution_count": 36,
      "metadata": {
        "colab": {
          "base_uri": "https://localhost:8080/"
        },
        "id": "-j9zl3AL2hai",
        "outputId": "067564ca-1975-4cb0-c3fe-5be12bf54ecd"
      },
      "outputs": [
        {
          "output_type": "stream",
          "name": "stdout",
          "text": [
            "10 9 8 7 6 5 "
          ]
        }
      ],
      "source": [
        "for i in range(10, 4, -1):\n",
        "    print(i, end=\" \")"
      ]
    },
    {
      "cell_type": "code",
      "execution_count": 37,
      "metadata": {
        "colab": {
          "base_uri": "https://localhost:8080/"
        },
        "id": "rDD6UKu9TFRF",
        "outputId": "79141604-9e23-4ecf-8ec5-68c4f1948ca8"
      },
      "outputs": [
        {
          "output_type": "stream",
          "name": "stdout",
          "text": [
            "0\n",
            "1\n",
            "2\n",
            "3\n"
          ]
        }
      ],
      "source": [
        "ls = [0, 1, 2, 3]\n",
        "for i in range(len(ls)):\n",
        "    print(ls[i])"
      ]
    },
    {
      "cell_type": "markdown",
      "source": [
        "## Coding Problem-2"
      ],
      "metadata": {
        "id": "rQFYTSExTbUB"
      }
    },
    {
      "cell_type": "code",
      "source": [
        "# Create a program that prints the first 10 numbers of the Fibonacci sequence.\n",
        "def fibonacci(a, b, n):\n",
        "    print(a, b, end=\" \")\n",
        "\n",
        "    for i in range(n - 2):\n",
        "        next = a + b\n",
        "        print(next, end=\" \")\n",
        "        a = b\n",
        "        b = next\n",
        "\n",
        "fibonacci(0, 1, 10)"
      ],
      "metadata": {
        "id": "1W9f-6RiTeaq",
        "outputId": "6f92f7f0-3c8a-4d27-fabd-1307fe4f3c43",
        "colab": {
          "base_uri": "https://localhost:8080/"
        }
      },
      "execution_count": 66,
      "outputs": [
        {
          "output_type": "stream",
          "name": "stdout",
          "text": [
            "0 1 1 2 3 5 8 13 21 34 "
          ]
        }
      ]
    },
    {
      "cell_type": "markdown",
      "source": [
        "# **Python Collections**"
      ],
      "metadata": {
        "id": "YnQeYzzaSLrX"
      }
    },
    {
      "cell_type": "markdown",
      "source": [
        "## **Lists**\n",
        "\n",
        "* Python lists are used to store multiple items in a single variable.\n",
        "* An important point about lists is that they can comprise of multiple types of variables.\n",
        "* Lists are 0-indexed and any list item can be accessed using this index.\n",
        "* List items are mutable (changeable)."
      ],
      "metadata": {
        "id": "zX_bDbkDHCCf"
      }
    },
    {
      "cell_type": "code",
      "source": [
        "myList = [10, 'ListItem', 14.5, 10j]\n",
        "print(type(myList[0]), type(myList[1]), type(myList[2]), type(myList[3]))\n",
        "\n",
        "# We can get the length of a list (or any other iterable) using len()\n",
        "print(\"Length of List:\", len(myList))"
      ],
      "metadata": {
        "id": "jyyPPzblHHgo",
        "colab": {
          "base_uri": "https://localhost:8080/"
        },
        "outputId": "0a0ad9c9-5dd9-49b3-d995-91150d87b6ee"
      },
      "execution_count": 44,
      "outputs": [
        {
          "output_type": "stream",
          "name": "stdout",
          "text": [
            "<class 'int'> <class 'str'> <class 'float'> <class 'complex'>\n",
            "Length of List: 4\n"
          ]
        }
      ]
    },
    {
      "cell_type": "markdown",
      "source": [
        "### **List Indexing**\n",
        "\n",
        "* Lists are 0-indexed.\n",
        "* Python also supports negative indexing. In negative indexing, the last item is assigned index `-1` and decreases by 1 as we move towards the first item."
      ],
      "metadata": {
        "id": "weeOHvB6HLFX"
      }
    },
    {
      "cell_type": "code",
      "source": [
        "ls = [10, 20, 30, 40, 50, 60]\n",
        "\n",
        "print(ls[5], ls[-1])\n",
        "print(ls[4], ls[-2])\n",
        "print(ls[0], ls[-6])"
      ],
      "metadata": {
        "id": "ii4cKgX8HL_H",
        "colab": {
          "base_uri": "https://localhost:8080/"
        },
        "outputId": "ce745bc2-9916-4d8f-d56a-a700324eb6a5"
      },
      "execution_count": 45,
      "outputs": [
        {
          "output_type": "stream",
          "name": "stdout",
          "text": [
            "60 60\n",
            "50 50\n",
            "10 10\n"
          ]
        }
      ]
    },
    {
      "cell_type": "markdown",
      "source": [
        "* Python also supports range indexing to get a range of items from a list.\n",
        "* The range index is of the form `[i:j]`, which returns items from index `i` to `j-1` excluding item at index `j`"
      ],
      "metadata": {
        "id": "-UkzMAQ2HWDe"
      }
    },
    {
      "cell_type": "code",
      "source": [
        "fruits = [\"apple\", \"mango\", \"orange\", \"kiwi\", \"banana\", \"cherry\", \"melon\"]\n",
        "\n",
        "print(fruits[1:3])      # Elements [1] and [2] are printed."
      ],
      "metadata": {
        "colab": {
          "base_uri": "https://localhost:8080/"
        },
        "id": "_fmohqLBHgLo",
        "outputId": "2615166a-307d-4b95-fe42-2cffa0748002"
      },
      "execution_count": 46,
      "outputs": [
        {
          "output_type": "stream",
          "name": "stdout",
          "text": [
            "['mango', 'orange']\n"
          ]
        }
      ]
    },
    {
      "cell_type": "code",
      "source": [
        "# If first index is left empty, it will default to first index, i.e 0.\n",
        "print(fruits[:3])"
      ],
      "metadata": {
        "colab": {
          "base_uri": "https://localhost:8080/"
        },
        "id": "Z70a3ll_Hhc5",
        "outputId": "0a9ef6ed-2d2d-45a9-e310-909fe016c913"
      },
      "execution_count": 47,
      "outputs": [
        {
          "output_type": "stream",
          "name": "stdout",
          "text": [
            "['apple', 'mango', 'orange']\n"
          ]
        }
      ]
    },
    {
      "cell_type": "code",
      "source": [
        "# If last index is left empty, it will default to last index.\n",
        "print(fruits[1:])"
      ],
      "metadata": {
        "colab": {
          "base_uri": "https://localhost:8080/"
        },
        "id": "CEaFXHu6HmAU",
        "outputId": "8b0914ee-76bc-4be7-8387-144022e6b158"
      },
      "execution_count": 48,
      "outputs": [
        {
          "output_type": "stream",
          "name": "stdout",
          "text": [
            "['mango', 'orange', 'kiwi', 'banana', 'cherry', 'melon']\n"
          ]
        }
      ]
    },
    {
      "cell_type": "code",
      "source": [
        "# Negative indexing can also be used here\n",
        "print(fruits[-4:-2])\n",
        "\n",
        "print(fruits[-2:-4]) # What will this print? and Why? # Can you rectify this?"
      ],
      "metadata": {
        "colab": {
          "base_uri": "https://localhost:8080/"
        },
        "id": "qAmCNXKpIHUg",
        "outputId": "bb6cb137-ddff-489b-894d-da9ec064c134"
      },
      "execution_count": 49,
      "outputs": [
        {
          "output_type": "stream",
          "name": "stdout",
          "text": [
            "['kiwi', 'banana']\n",
            "[]\n"
          ]
        }
      ]
    },
    {
      "cell_type": "markdown",
      "source": [
        "* A double colon syntax can also be used for slicing lists. It is of the format `[start : stop : steps]`. The `steps` is the value incremented in each step.\n"
      ],
      "metadata": {
        "id": "LESXCqKbJncK"
      }
    },
    {
      "cell_type": "code",
      "source": [
        "print(fruits[1:5:2])"
      ],
      "metadata": {
        "id": "vgtPfdJuJo8b",
        "colab": {
          "base_uri": "https://localhost:8080/"
        },
        "outputId": "a11d80c4-3790-4b05-abe6-bbf8599b22be"
      },
      "execution_count": 50,
      "outputs": [
        {
          "output_type": "stream",
          "name": "stdout",
          "text": [
            "['mango', 'kiwi']\n"
          ]
        }
      ]
    },
    {
      "cell_type": "markdown",
      "source": [
        "* This can be used to reverse lists. Using a negative value for `steps` will iterate the list in reverse fashion."
      ],
      "metadata": {
        "id": "XO0ndm0bJvuI"
      }
    },
    {
      "cell_type": "code",
      "source": [
        "print(fruits[4:1:-1])"
      ],
      "metadata": {
        "id": "1OpoiejZJwha",
        "colab": {
          "base_uri": "https://localhost:8080/"
        },
        "outputId": "807609e8-a5a6-4374-a476-a139bdc3e57f"
      },
      "execution_count": 51,
      "outputs": [
        {
          "output_type": "stream",
          "name": "stdout",
          "text": [
            "['banana', 'kiwi', 'orange']\n"
          ]
        }
      ]
    },
    {
      "cell_type": "code",
      "source": [
        "# We can reverse the entire list using this\n",
        "print(fruits[::-1])\n",
        "print(fruits)"
      ],
      "metadata": {
        "id": "U57LYzmWJ--H",
        "colab": {
          "base_uri": "https://localhost:8080/"
        },
        "outputId": "c22572a7-ee6f-47e4-cd77-7192b4c91dab"
      },
      "execution_count": 52,
      "outputs": [
        {
          "output_type": "stream",
          "name": "stdout",
          "text": [
            "['melon', 'cherry', 'banana', 'kiwi', 'orange', 'mango', 'apple']\n",
            "['apple', 'mango', 'orange', 'kiwi', 'banana', 'cherry', 'melon']\n"
          ]
        }
      ]
    },
    {
      "cell_type": "markdown",
      "source": [
        "### **Adding Items**\n",
        "\n",
        "* Items can be added to lists using `append()` and `insert()`."
      ],
      "metadata": {
        "id": "v8XSZUuNKORn"
      }
    },
    {
      "cell_type": "code",
      "source": [
        "ls = [10, 20, 30]\n",
        "\n",
        "ls.append(40)       # Append adds an element to the end of the list.\n",
        "print(ls)"
      ],
      "metadata": {
        "id": "l3C2qUXMKPSe",
        "colab": {
          "base_uri": "https://localhost:8080/"
        },
        "outputId": "2ddcd5bb-da55-4bdf-dcc3-a8a2f6e39ac8"
      },
      "execution_count": 53,
      "outputs": [
        {
          "output_type": "stream",
          "name": "stdout",
          "text": [
            "[10, 20, 30, 40]\n"
          ]
        }
      ]
    },
    {
      "cell_type": "code",
      "source": [
        "ls = [10, 20, 40]\n",
        "\n",
        "ls.insert(2, 30)      # .insert(index, value)\n",
        "print(ls)"
      ],
      "metadata": {
        "id": "KHe-NhiLKVrO",
        "colab": {
          "base_uri": "https://localhost:8080/"
        },
        "outputId": "6f949651-e640-4baf-c538-bb80af582111"
      },
      "execution_count": 54,
      "outputs": [
        {
          "output_type": "stream",
          "name": "stdout",
          "text": [
            "[10, 20, 30, 40]\n"
          ]
        }
      ]
    },
    {
      "cell_type": "markdown",
      "source": [
        "* We can even add another list entirely."
      ],
      "metadata": {
        "id": "jwn8Dz3rKavK"
      }
    },
    {
      "cell_type": "code",
      "source": [
        "ls1 = [10, 20, 30]\n",
        "ls2 = [40, 50, 60]\n",
        "\n",
        "# Simply + operator can be used\n",
        "ls3 = ls1 + ls2\n",
        "print(ls3)\n",
        "\n",
        "\n",
        "# .extend() method can be used to add elements from any iterable\n",
        "ls1 = [10, 20, 30]\n",
        "ls1.extend(ls2)     # A new list is not returned, ls2 is appended to ls1\n",
        "print(ls1)"
      ],
      "metadata": {
        "id": "SWjTG3F7Kb1U",
        "colab": {
          "base_uri": "https://localhost:8080/"
        },
        "outputId": "9b0d6f64-7dc4-44c9-efeb-74fd10fef9bc"
      },
      "execution_count": 55,
      "outputs": [
        {
          "output_type": "stream",
          "name": "stdout",
          "text": [
            "[10, 20, 30, 40, 50, 60]\n",
            "[10, 20, 30, 40, 50, 60]\n"
          ]
        }
      ]
    },
    {
      "cell_type": "markdown",
      "source": [
        "### **Removing Items**\n",
        "\n",
        "* The remove() method removes the specified item."
      ],
      "metadata": {
        "id": "2IfPW1E1KyHa"
      }
    },
    {
      "cell_type": "code",
      "source": [
        "ls = [\"India\", \"Pakistan\", \"USA\"]\n",
        "ls.remove(\"Pakistan\")\n",
        "print(ls)"
      ],
      "metadata": {
        "id": "-sV_bEnNLFgU",
        "colab": {
          "base_uri": "https://localhost:8080/"
        },
        "outputId": "c9099b02-5d75-4674-8485-97b281786de9"
      },
      "execution_count": 56,
      "outputs": [
        {
          "output_type": "stream",
          "name": "stdout",
          "text": [
            "['India', 'USA']\n"
          ]
        }
      ]
    },
    {
      "cell_type": "markdown",
      "source": [
        "* The pop() method removes the item at given index. If not specified, the last item is removed"
      ],
      "metadata": {
        "id": "bWlOVWdTLPXj"
      }
    },
    {
      "cell_type": "code",
      "source": [
        "ls = [\"India\", \"Pakistan\", \"USA\"]\n",
        "x = ls.pop()\n",
        "print(ls)\n",
        "print(x)"
      ],
      "metadata": {
        "id": "D8LE9nExLQNM",
        "colab": {
          "base_uri": "https://localhost:8080/"
        },
        "outputId": "c87e044b-1667-4a93-e976-06ddda5f85a2"
      },
      "execution_count": 58,
      "outputs": [
        {
          "output_type": "stream",
          "name": "stdout",
          "text": [
            "['India', 'Pakistan']\n",
            "USA\n"
          ]
        }
      ]
    },
    {
      "cell_type": "markdown",
      "source": [
        "* clear() method deletes all elements of the list"
      ],
      "metadata": {
        "id": "CQkBthoKLVLK"
      }
    },
    {
      "cell_type": "code",
      "source": [
        "ls = [\"Pakistan\", \"USA\", \"Russia\"]\n",
        "ls.clear()\n",
        "print(ls)"
      ],
      "metadata": {
        "id": "r_I1v92oLWDJ",
        "colab": {
          "base_uri": "https://localhost:8080/"
        },
        "outputId": "a58148ac-6278-4471-9ccc-d37ccf99f93c"
      },
      "execution_count": 57,
      "outputs": [
        {
          "output_type": "stream",
          "name": "stdout",
          "text": [
            "[]\n"
          ]
        }
      ]
    },
    {
      "cell_type": "code",
      "source": [
        "# Similarly del also can be used.\n",
        "ls = [\"Pakistan\", \"USA\", \"Russia\"]\n",
        "del ls[0]\n",
        "print(ls)\n",
        "\n",
        "del ls\n",
        "# print(ls)"
      ],
      "metadata": {
        "id": "AsTGEEVuLdWZ",
        "colab": {
          "base_uri": "https://localhost:8080/"
        },
        "outputId": "bbd4b919-5067-4d95-a01f-0c499d37e534"
      },
      "execution_count": 68,
      "outputs": [
        {
          "output_type": "stream",
          "name": "stdout",
          "text": [
            "['USA', 'Russia']\n"
          ]
        }
      ]
    },
    {
      "cell_type": "markdown",
      "source": [
        "### **Sorting**\n",
        "\n",
        "* Sorting operation can be done by simply using the sort() method.\n",
        "* By default, sorting is done in ascending order. For descending order, we set the arguement `reverse = True`"
      ],
      "metadata": {
        "id": "-ndVhfNyL4Th"
      }
    },
    {
      "cell_type": "code",
      "source": [
        "ls = [3, 5, 1, 2, 6, 7, -4, 5]\n",
        "ls.sort()                  # Inplace sorting\n",
        "print(ls)"
      ],
      "metadata": {
        "id": "ajiTGAN8L6eE",
        "colab": {
          "base_uri": "https://localhost:8080/"
        },
        "outputId": "ae198c7f-fff7-4316-c21f-b6dbf91a873f"
      },
      "execution_count": 60,
      "outputs": [
        {
          "output_type": "stream",
          "name": "stdout",
          "text": [
            "[-4, 1, 2, 3, 5, 5, 6, 7]\n"
          ]
        }
      ]
    },
    {
      "cell_type": "code",
      "source": [
        "ls = [3, 5, 1, 2, 6, 7, -4, 5]\n",
        "ls.sort(reverse=True)       # Reverse sorting\n",
        "print(ls)"
      ],
      "metadata": {
        "id": "7psgIsNxL_Q1",
        "colab": {
          "base_uri": "https://localhost:8080/"
        },
        "outputId": "3869d150-c4b3-4dd4-9a09-59c402e9e934"
      },
      "execution_count": 61,
      "outputs": [
        {
          "output_type": "stream",
          "name": "stdout",
          "text": [
            "[7, 6, 5, 5, 3, 2, 1, -4]\n"
          ]
        }
      ]
    },
    {
      "cell_type": "code",
      "source": [
        "# For creating a new variable, we can use the sorted() function.\n",
        "ls = [3, 5, 1, 2, 6, 7, -4, 5]\n",
        "print(sorted(ls))\n",
        "print(ls)"
      ],
      "metadata": {
        "id": "OK40WDccMBpL",
        "colab": {
          "base_uri": "https://localhost:8080/"
        },
        "outputId": "91e7d9f9-3a11-44d1-baa5-b9c053c9d0ba"
      },
      "execution_count": 62,
      "outputs": [
        {
          "output_type": "stream",
          "name": "stdout",
          "text": [
            "[-4, 1, 2, 3, 5, 5, 6, 7]\n",
            "[3, 5, 1, 2, 6, 7, -4, 5]\n"
          ]
        }
      ]
    },
    {
      "cell_type": "markdown",
      "source": [
        "> Python supports a lot of methods for lists. You can refer to these methods here.\n",
        "https://www.w3schools.com/python/python_lists_methods.asp"
      ],
      "metadata": {
        "id": "CTj3_QG3MLnc"
      }
    },
    {
      "cell_type": "markdown",
      "source": [
        "####List comprehensions:"
      ],
      "metadata": {
        "id": "ydNaWdSOa_vz"
      }
    },
    {
      "cell_type": "markdown",
      "source": [
        "When programming, frequently we want to transform one type of data into another. As a simple example, consider the following code that computes square numbers:"
      ],
      "metadata": {
        "id": "phoCqUk_bTk9"
      }
    },
    {
      "cell_type": "code",
      "source": [
        "nums = [0, 1, 2, 3, 4]\n",
        "squares = []\n",
        "for x in nums:\n",
        "    squares.append(x ** 2)\n",
        "print(squares)"
      ],
      "metadata": {
        "id": "LAl5bGLAbNB8",
        "outputId": "06ce22e9-b63a-4bd8-a31b-4ad8ae2e40b0",
        "colab": {
          "base_uri": "https://localhost:8080/"
        }
      },
      "execution_count": 63,
      "outputs": [
        {
          "output_type": "stream",
          "name": "stdout",
          "text": [
            "[0, 1, 4, 9, 16]\n"
          ]
        }
      ]
    },
    {
      "cell_type": "markdown",
      "source": [
        "You can make this code simpler using a list comprehension:"
      ],
      "metadata": {
        "id": "tUjJeBrVbXk7"
      }
    },
    {
      "cell_type": "code",
      "source": [
        "# newList = [expression(element) for element in Oldlist if condition]\n",
        "nums = [0, 1, 2, 3, 4]\n",
        "squares = [x ** 2 for x in nums]\n",
        "print(squares)"
      ],
      "metadata": {
        "id": "6e0oNosibYWi",
        "outputId": "b5877086-e0ae-4b36-985f-cbb20362c29a",
        "colab": {
          "base_uri": "https://localhost:8080/"
        }
      },
      "execution_count": 64,
      "outputs": [
        {
          "output_type": "stream",
          "name": "stdout",
          "text": [
            "[0, 1, 4, 9, 16]\n"
          ]
        }
      ]
    },
    {
      "cell_type": "code",
      "source": [
        "# Make a list of even square numbers using nums\n",
        "ls1 = []\n",
        "for n in squares:\n",
        "  if n%2==0:\n",
        "    ls1.append(n)\n",
        "print(ls1)"
      ],
      "metadata": {
        "id": "DikC1mW_cQ0N",
        "outputId": "535f03f2-02ef-4934-9144-0b0a447f830c",
        "colab": {
          "base_uri": "https://localhost:8080/"
        }
      },
      "execution_count": 69,
      "outputs": [
        {
          "output_type": "stream",
          "name": "stdout",
          "text": [
            "[0, 4, 16]\n"
          ]
        }
      ]
    },
    {
      "cell_type": "code",
      "source": [
        "# Make a list of even numbers between 1 to 10 using list comprehension\n",
        "even_numbers = [x for x in range(1, 11) if x % 2 == 0]\n",
        "print(even_numbers)\n"
      ],
      "metadata": {
        "colab": {
          "base_uri": "https://localhost:8080/"
        },
        "id": "gb6vVfJHbuUB",
        "outputId": "c6f8a068-9101-4897-c595-a68af712a547"
      },
      "execution_count": 72,
      "outputs": [
        {
          "output_type": "stream",
          "name": "stdout",
          "text": [
            "[2, 4, 6, 8, 10]\n"
          ]
        }
      ]
    },
    {
      "cell_type": "markdown",
      "source": [
        "## **Sets**\n",
        "\n",
        "* Set is an unordered collection of unique items.\n",
        "* Duplicates are not allowed in sets. If a duplicate item is assigned, it is only inserted once.\n",
        "* A set can be created using curly braces `{ }`.\n",
        "* Sets items are not changeable, but the set itself can change. (i.e items can be added or removed)(Mutable)\n",
        "* Items in the set cannot be replaced or changed.\n",
        "\n",
        "* They are unindexed and so items cannot be accessed using index."
      ],
      "metadata": {
        "id": "ABDjlLEPRLMB"
      }
    },
    {
      "cell_type": "code",
      "source": [
        "mySet = {10, 15, \"v\", 2, 13, \"Hello\", 10, 2, \"v\"}\n",
        "print(mySet)"
      ],
      "metadata": {
        "id": "dfKiwkN8RO99",
        "colab": {
          "base_uri": "https://localhost:8080/"
        },
        "outputId": "a7310cc9-fc88-42b6-d936-25f404171bd1"
      },
      "execution_count": 73,
      "outputs": [
        {
          "output_type": "stream",
          "name": "stdout",
          "text": [
            "{2, 'v', 'Hello', 10, 13, 15}\n"
          ]
        }
      ]
    },
    {
      "cell_type": "markdown",
      "source": [
        "### **Accessing Set Items**\n",
        "* You cannot access items in a set by referring to an index or key.\n",
        "But you can ask if a specified value is present in a set, by using the **in** keyword."
      ],
      "metadata": {
        "id": "Sn0NqP7oRUYj"
      }
    },
    {
      "cell_type": "code",
      "source": [
        "myLang = {\"C++\", \"Python\", \"Java\", \"Kotlin\"}\n",
        "if \"Javascript\" in myLang:\n",
        "    print(\"I know Javascript.\")\n",
        "else:\n",
        "    print(\"I do not know Javascript.\")"
      ],
      "metadata": {
        "id": "o_H9rqH7RaGm",
        "colab": {
          "base_uri": "https://localhost:8080/"
        },
        "outputId": "5a08a86c-279a-4fa5-d24f-4259c64bb538"
      },
      "execution_count": 74,
      "outputs": [
        {
          "output_type": "stream",
          "name": "stdout",
          "text": [
            "I do not know Javascript.\n"
          ]
        }
      ]
    },
    {
      "cell_type": "markdown",
      "source": [
        "### **Adding Items**\n",
        "\n",
        "* Items can be added to a set using `add()` method."
      ],
      "metadata": {
        "id": "z_jsl8NdRfIQ"
      }
    },
    {
      "cell_type": "code",
      "source": [
        "mySet = {10, 20, 30}\n",
        "mySet.add(40)\n",
        "print(mySet)\n",
        "\n",
        "mySet.add(30)\n",
        "print(mySet)"
      ],
      "metadata": {
        "id": "tOV7Qdu6Rf3D",
        "colab": {
          "base_uri": "https://localhost:8080/"
        },
        "outputId": "a443e701-8321-4b8d-d94e-d30c77849d6d"
      },
      "execution_count": 75,
      "outputs": [
        {
          "output_type": "stream",
          "name": "stdout",
          "text": [
            "{40, 10, 20, 30}\n",
            "{40, 10, 20, 30}\n"
          ]
        }
      ]
    },
    {
      "cell_type": "markdown",
      "source": [
        "* To add multiple items at once, we can use `update()` method. It takes any iterable as an arguement."
      ],
      "metadata": {
        "id": "liDEEzdnS1hv"
      }
    },
    {
      "cell_type": "code",
      "source": [
        "mySet = {\"A\", \"B\", \"C\"}\n",
        "ls = [\"C\", \"D\", \"E\"]\n",
        "\n",
        "mySet.update(ls)\n",
        "print(mySet)"
      ],
      "metadata": {
        "id": "lDKmL_kjS2T7",
        "colab": {
          "base_uri": "https://localhost:8080/"
        },
        "outputId": "9ccc3578-29e3-46a2-be0e-764145ebdde8"
      },
      "execution_count": 76,
      "outputs": [
        {
          "output_type": "stream",
          "name": "stdout",
          "text": [
            "{'E', 'A', 'B', 'C', 'D'}\n"
          ]
        }
      ]
    },
    {
      "cell_type": "markdown",
      "source": [
        "### **Removing Items**\n",
        "\n",
        "* To remove an item from set, we can use `discard()` or `remove()` method.\n",
        "* Both function similarly with the only difference being that if item does not exist in the set, `remove()` will generate an error whereas `discard()` will NOT generate an error."
      ],
      "metadata": {
        "id": "p6snqvqVTwHf"
      }
    },
    {
      "cell_type": "code",
      "source": [
        "mySet = {10, 20, 'A', 'B'}\n",
        "mySet.remove(10)\n",
        "# mySet.remove(30)         # Element does not exist.\n",
        "print(mySet)"
      ],
      "metadata": {
        "id": "SmCyYN3HTyWC",
        "colab": {
          "base_uri": "https://localhost:8080/"
        },
        "outputId": "e8fa31b2-633b-410e-f430-86987887df9d"
      },
      "execution_count": 78,
      "outputs": [
        {
          "output_type": "stream",
          "name": "stdout",
          "text": [
            "{'A', 'B', 20}\n"
          ]
        }
      ]
    },
    {
      "cell_type": "code",
      "source": [
        "mySet = {10, 20, 'A', 'B'}\n",
        "mySet.discard(10)\n",
        "mySet.discard(30)        # Element does not exist.\n",
        "print(mySet)"
      ],
      "metadata": {
        "id": "HMS1II6UT12Z",
        "colab": {
          "base_uri": "https://localhost:8080/"
        },
        "outputId": "71c57577-8504-447d-9ee8-d83195d01948"
      },
      "execution_count": 79,
      "outputs": [
        {
          "output_type": "stream",
          "name": "stdout",
          "text": [
            "{'A', 'B', 20}\n"
          ]
        }
      ]
    },
    {
      "cell_type": "markdown",
      "source": [
        "### **Set Operations**\n",
        "\n",
        "* The `union()` method is used to perform union of two sets.\n",
        "* The `intersection()` method is used to perform intersection of two sets."
      ],
      "metadata": {
        "id": "oEEhVGrNUL7H"
      }
    },
    {
      "cell_type": "code",
      "source": [
        "A = {10, 20, 30}\n",
        "B = {20, 40, 50, 60}\n",
        "\n",
        "AuB = A.union(B)          # A new set is returned.\n",
        "print(AuB)\n",
        "AiB = A.intersection(B)         # A new set is returned.\n",
        "print(AiB)"
      ],
      "metadata": {
        "colab": {
          "base_uri": "https://localhost:8080/"
        },
        "id": "asVJzE_dUUtq",
        "outputId": "ace9d92e-c425-4f51-d14e-062f5f8bfea7"
      },
      "execution_count": 80,
      "outputs": [
        {
          "output_type": "stream",
          "name": "stdout",
          "text": [
            "{50, 20, 40, 10, 60, 30}\n",
            "{20}\n"
          ]
        }
      ]
    },
    {
      "cell_type": "markdown",
      "source": [
        "* Many other operations like difference and symmetric difference can also be performed using set methods. Check reference : https://www.w3schools.com/python/python_sets_methods.asp"
      ],
      "metadata": {
        "id": "Wll3GUnGUedo"
      }
    },
    {
      "cell_type": "markdown",
      "source": [
        "When programming, frequently we want to transform one type of data into another. As a simple example, consider the following code that computes square numbers:"
      ],
      "metadata": {
        "id": "kqAva3f_eopa"
      }
    },
    {
      "cell_type": "markdown",
      "source": [
        "## **Dictionaries**\n",
        "\n",
        "* Dictionaries are used to store `key : value` pairs in python. It is an implementation of hash tables.\n",
        "* Item values can be accessed using the `key` for the required item.\n",
        "* Dictionaries are mutable, i.e we can add or remove items after the dictionary has been created.\n",
        "* Dictionaries require a unique `key` for every item. No two items can have the same `key`.\n"
      ],
      "metadata": {
        "id": "H_FILFVqyku5"
      }
    },
    {
      "cell_type": "code",
      "source": [
        "myDict = {\n",
        "    \"Student ID\" : 202103017,         # keys and values can be of any data type\n",
        "    \"Name\" : \"Dhruv\",\n",
        "    \"College\" : \"DAIICT\",\n",
        "    \"Graduation Year\" : 2025,\n",
        "    \"Years of Study\" : [2021, 2022, 2023, 2024],\n",
        "}\n",
        "print(myDict)\n",
        "print(myDict[\"Name\"])"
      ],
      "metadata": {
        "id": "QWSA327Fy5Di",
        "colab": {
          "base_uri": "https://localhost:8080/"
        },
        "outputId": "ffffe7f7-99b1-4289-8aa0-fee28be028c5"
      },
      "execution_count": 81,
      "outputs": [
        {
          "output_type": "stream",
          "name": "stdout",
          "text": [
            "{'Student ID': 202103017, 'Name': 'Dhruv', 'College': 'DAIICT', 'Graduation Year': 2025, 'Years of Study': [2021, 2022, 2023, 2024]}\n",
            "Dhruv\n"
          ]
        }
      ]
    },
    {
      "cell_type": "markdown",
      "source": [
        "### **Accessing Dictionary Items**\n",
        "\n",
        "* As shown above, dictionary `values` can be accessed by using their corresponding `keys` as index.\n",
        "* This can also be done using the `get()` method. This will prevent an error incase key does not exist."
      ],
      "metadata": {
        "id": "hRlbGLpQzS7M"
      }
    },
    {
      "cell_type": "code",
      "source": [
        "gradeDict = {'A' : 5, 'B': 4, 'C' : 3, 'D' : 2, 'E' : 1, 'F' : 0}\n",
        "\n",
        "print(gradeDict['A'])\n",
        "print(gradeDict.get('B'))\n",
        "print(gradeDict.get('X'))"
      ],
      "metadata": {
        "id": "_fnEr1MPzT6G",
        "colab": {
          "base_uri": "https://localhost:8080/"
        },
        "outputId": "da873ad5-3084-4191-b782-b24b6f73a59c"
      },
      "execution_count": 82,
      "outputs": [
        {
          "output_type": "stream",
          "name": "stdout",
          "text": [
            "5\n",
            "4\n",
            "None\n"
          ]
        }
      ]
    },
    {
      "cell_type": "markdown",
      "source": [
        "### **Adding and Updating Items**\n",
        "\n",
        "* Existing items can be updated easily by accessing them using their corresponding `key`."
      ],
      "metadata": {
        "id": "3G4-0_qXz9ay"
      }
    },
    {
      "cell_type": "code",
      "source": [
        "phone = {\n",
        "    'Company' : 'Samsung',\n",
        "    'Model' : 'S21',\n",
        "    'Android Version' : 11\n",
        "}\n",
        "\n",
        "phone['Android Version'] = 12\n",
        "print(phone)"
      ],
      "metadata": {
        "id": "cIfIKC1Fz-J9",
        "colab": {
          "base_uri": "https://localhost:8080/"
        },
        "outputId": "9490c8e9-cbca-4e77-b291-3ad5f9c7af56"
      },
      "execution_count": 83,
      "outputs": [
        {
          "output_type": "stream",
          "name": "stdout",
          "text": [
            "{'Company': 'Samsung', 'Model': 'S21', 'Android Version': 12}\n"
          ]
        }
      ]
    },
    {
      "cell_type": "markdown",
      "source": [
        "* If we assign a `value` to a `key` which does not exist, a new `key : value` pair will be added to the dictionary."
      ],
      "metadata": {
        "id": "Ti_idnhE0Ijv"
      }
    },
    {
      "cell_type": "code",
      "source": [
        "phone = {\n",
        "    'Company' : 'Samsung',\n",
        "    'Model' : 'S21',\n",
        "    'Android Version' : 11\n",
        "}\n",
        "phone['OneUI'] = 4.1\n",
        "print(phone)"
      ],
      "metadata": {
        "id": "Y0jwj4k80K4B",
        "colab": {
          "base_uri": "https://localhost:8080/"
        },
        "outputId": "db9fc3a8-3099-482b-f97a-8313ca79b496"
      },
      "execution_count": 84,
      "outputs": [
        {
          "output_type": "stream",
          "name": "stdout",
          "text": [
            "{'Company': 'Samsung', 'Model': 'S21', 'Android Version': 11, 'OneUI': 4.1}\n"
          ]
        }
      ]
    },
    {
      "cell_type": "markdown",
      "source": [
        "* To add new or update multiple items at once, we can use the `update()` method of dictionaries.\n",
        "* `update()` method takes a dictionary as input which will be merged with the calling dictionary."
      ],
      "metadata": {
        "id": "UdbD4kHz0OIJ"
      }
    },
    {
      "cell_type": "code",
      "source": [
        "phone = {\n",
        "    'Company' : 'Samsung',\n",
        "    'Model' : 'S21',\n",
        "    'Android Version' : 11\n",
        "}\n",
        "phone.update({'Model':'S22', 'Android Version':12, 'Color': 'Black'})\n",
        "print(phone)"
      ],
      "metadata": {
        "id": "3Tvdr8cd0hjO",
        "colab": {
          "base_uri": "https://localhost:8080/"
        },
        "outputId": "d5a4e817-3206-474a-c4ea-3bb67cab17fc"
      },
      "execution_count": 85,
      "outputs": [
        {
          "output_type": "stream",
          "name": "stdout",
          "text": [
            "{'Company': 'Samsung', 'Model': 'S22', 'Android Version': 12, 'Color': 'Black'}\n"
          ]
        }
      ]
    },
    {
      "cell_type": "markdown",
      "source": [
        "### **Remove Items**\n",
        "\n",
        "* To remove an item, we can use the `pop()` method. It takes item `key` as input parameter."
      ],
      "metadata": {
        "id": "T-Vo2GF-0r6_"
      }
    },
    {
      "cell_type": "code",
      "source": [
        "phone = {\n",
        "    'Company' : 'Samsung',\n",
        "    'Model' : 'S21',\n",
        "    'Android Version' : 12,\n",
        "    'Color' : 'Black'\n",
        "}\n",
        "phone.pop('Color')\n",
        "print(phone)"
      ],
      "metadata": {
        "id": "-fb6vokN0skm",
        "colab": {
          "base_uri": "https://localhost:8080/"
        },
        "outputId": "fa0d6516-e164-422a-f24d-1b12feed6869"
      },
      "execution_count": 86,
      "outputs": [
        {
          "output_type": "stream",
          "name": "stdout",
          "text": [
            "{'Company': 'Samsung', 'Model': 'S21', 'Android Version': 12}\n"
          ]
        }
      ]
    },
    {
      "cell_type": "markdown",
      "source": [
        "* The `popitem()` method removes the last inserted item from the dictionary.\n",
        "\n",
        "* Note that dictionaries are unordered in versions before 3.7. In older versions, this method removes a random item."
      ],
      "metadata": {
        "id": "y-Z907Qw0zMG"
      }
    },
    {
      "cell_type": "code",
      "source": [
        "phone = {\n",
        "    'Company' : 'Samsung',\n",
        "    'Model' : 'S21',\n",
        "    'Android Version' : 12,\n",
        "}\n",
        "phone.popitem()\n",
        "print(phone)"
      ],
      "metadata": {
        "id": "cJ4cmoSf0218",
        "colab": {
          "base_uri": "https://localhost:8080/"
        },
        "outputId": "0ca471ca-3957-4cec-e47f-cf49eac02514"
      },
      "execution_count": 87,
      "outputs": [
        {
          "output_type": "stream",
          "name": "stdout",
          "text": [
            "{'Company': 'Samsung', 'Model': 'S21'}\n"
          ]
        }
      ]
    },
    {
      "cell_type": "markdown",
      "source": [
        "### **Items, Keys & Values**\n",
        "\n",
        "While using python dictionaries you will work with these three terms.\n",
        "1. ***items*** : Items refer to a `key:value` pair. It is stored in the form of a tuple.\n",
        "2. ***keys*** : Keys refer to the user made indices which are used to access items.\n",
        "3. ***values*** : Values refere to the *data* which can be accessed using its corresponding key."
      ],
      "metadata": {
        "id": "aWlx0MJb0_XF"
      }
    },
    {
      "cell_type": "markdown",
      "source": [
        "We can view all items, keys and values using the methods `items()`, `keys()`\n",
        "\n",
        "and `values()` respectively."
      ],
      "metadata": {
        "id": "3-8VrSO71CgL"
      }
    },
    {
      "cell_type": "code",
      "source": [
        "phone = {\n",
        "    'Company' : 'Samsung',\n",
        "    'Model' : 'S21',\n",
        "    'Android Version' : 12,\n",
        "}\n",
        "\n",
        "print(phone.items(), type(phone.items()))\n",
        "print(phone.keys(), type(phone.keys()))\n",
        "print(phone.values(), type(phone.values()))"
      ],
      "metadata": {
        "id": "m14nlTkd1E_z",
        "colab": {
          "base_uri": "https://localhost:8080/"
        },
        "outputId": "e719da08-4357-4e13-a75c-89167a511c25"
      },
      "execution_count": 88,
      "outputs": [
        {
          "output_type": "stream",
          "name": "stdout",
          "text": [
            "dict_items([('Company', 'Samsung'), ('Model', 'S21'), ('Android Version', 12)]) <class 'dict_items'>\n",
            "dict_keys(['Company', 'Model', 'Android Version']) <class 'dict_keys'>\n",
            "dict_values(['Samsung', 'S21', 12]) <class 'dict_values'>\n"
          ]
        }
      ]
    },
    {
      "cell_type": "markdown",
      "source": [
        "> Python dictionaries also support many other methods. Check reference: https://www.w3schools.com/python/python_dictionaries_methods.asp"
      ],
      "metadata": {
        "id": "aJdv51gF2DIu"
      }
    },
    {
      "cell_type": "markdown",
      "metadata": {
        "id": "mkQdG8OH-S0V"
      },
      "source": [
        "## **Tuples**\n",
        "\n",
        "* Tuples are used to store multiple items in a single variable.\n",
        "* Tuples are created using `( )` and are immutable (unchangeable)\n",
        "* Similar to lists, tuples are 0-indexed."
      ]
    },
    {
      "cell_type": "code",
      "execution_count": 89,
      "metadata": {
        "colab": {
          "base_uri": "https://localhost:8080/"
        },
        "id": "kdLjutQfA_LB",
        "outputId": "63521c25-e383-4bd9-940e-f7f242b093a5"
      },
      "outputs": [
        {
          "output_type": "stream",
          "name": "stdout",
          "text": [
            "('Zero', 'One', 'Two', 'Three')\n"
          ]
        }
      ],
      "source": [
        "myTuple = (\"Zero\", \"One\", \"Two\", \"Three\")\n",
        "print(myTuple)\n"
      ]
    },
    {
      "cell_type": "code",
      "source": [
        "# myTuple[0] = \"Five\""
      ],
      "metadata": {
        "id": "siJhmgldXKPc"
      },
      "execution_count": 106,
      "outputs": []
    },
    {
      "cell_type": "code",
      "execution_count": 92,
      "metadata": {
        "colab": {
          "base_uri": "https://localhost:8080/"
        },
        "id": "m7d7heirB4Rj",
        "outputId": "8ffda33d-bf43-4095-a6fb-8f888a2be408"
      },
      "outputs": [
        {
          "output_type": "stream",
          "name": "stdout",
          "text": [
            "<class 'int'> <class 'str'> <class 'float'>\n"
          ]
        }
      ],
      "source": [
        "# A tuple can also have different data type values\n",
        "diffTup = (0, \"One\", 2.0)\n",
        "print(type(diffTup[0]), type(diffTup[1]), type(diffTup[2]))"
      ]
    },
    {
      "cell_type": "markdown",
      "metadata": {
        "id": "Mu1pbIY5CgG4"
      },
      "source": [
        "* As tuples are unchangeable, we cannot add or remove elements from a tuple.\n",
        "But there is a workaround for this. We can convert the tuple into a list, add/remove your item, and then convert it back into a tuple."
      ]
    },
    {
      "cell_type": "code",
      "source": [
        "thistuple=(\"apple\",\"banana\",\"cherry\")\n",
        "y=list(thistuple)\n",
        "y.append(\"orange\")\n",
        "thistuple=tuple(y)"
      ],
      "metadata": {
        "id": "8xLYoTkxVOko"
      },
      "execution_count": 93,
      "outputs": []
    },
    {
      "cell_type": "markdown",
      "metadata": {
        "id": "Aiy0jSt7CeDY"
      },
      "source": [
        "### **Unpacking tuples**\n",
        "\n",
        "* As we discussed tuples are used to store multiple items in a single variable. Now, unpacking a tuple means creating a separate variable for every item in a tuple."
      ]
    },
    {
      "cell_type": "code",
      "execution_count": 94,
      "metadata": {
        "colab": {
          "base_uri": "https://localhost:8080/"
        },
        "id": "TtSocFXaC9OP",
        "outputId": "92083a66-32d9-4755-f66e-39a4bbe71b72"
      },
      "outputs": [
        {
          "output_type": "stream",
          "name": "stdout",
          "text": [
            "Zero\n",
            "One\n",
            "Two\n"
          ]
        }
      ],
      "source": [
        "myTuple = (\"Zero\", \"One\", \"Two\")\n",
        "z, o, t = myTuple\n",
        "print(z, o, t, sep='\\n')"
      ]
    },
    {
      "cell_type": "markdown",
      "metadata": {
        "id": "GBDl-eJYEBr1"
      },
      "source": [
        "* If number of variables created are not equal to the number of items in the tuple, we will face an error. To resolve this error, use `*` before a variable name to assign all remaining items to that variable as a list."
      ]
    },
    {
      "cell_type": "code",
      "execution_count": 95,
      "metadata": {
        "colab": {
          "base_uri": "https://localhost:8080/"
        },
        "id": "p7kv5X95D0KW",
        "outputId": "fdeca41c-b7ff-4fe7-c2a9-9f26419e6a07"
      },
      "outputs": [
        {
          "output_type": "stream",
          "name": "stdout",
          "text": [
            "['Zero', 'One'] Two\n"
          ]
        }
      ],
      "source": [
        "myTuple = (\"Zero\", \"One\", \"Two\")\n",
        "*z, o = myTuple      # Use *\n",
        "print(z,o)"
      ]
    },
    {
      "cell_type": "markdown",
      "source": [
        "A tuple is in many ways similar to a list; one of the most important differences is that tuples can be used as keys in dictionaries and as elements of sets, while lists cannot. Here is a trivial example:"
      ],
      "metadata": {
        "id": "_JIFFLMrXrH8"
      }
    },
    {
      "cell_type": "code",
      "source": [
        "d = {(x, x + 1): x for x in range(10)}  # Create a dictionary with tuple keys\n",
        "t = (5, 6)       # Create a tuple\n",
        "print(d)\n",
        "print(type(t))\n"
      ],
      "metadata": {
        "colab": {
          "base_uri": "https://localhost:8080/"
        },
        "id": "U2DE8SD9X2um",
        "outputId": "81a31881-af2e-40d8-d0ba-24992119a4e0"
      },
      "execution_count": 96,
      "outputs": [
        {
          "output_type": "stream",
          "name": "stdout",
          "text": [
            "{(0, 1): 0, (1, 2): 1, (2, 3): 2, (3, 4): 3, (4, 5): 4, (5, 6): 5, (6, 7): 6, (7, 8): 7, (8, 9): 8, (9, 10): 9}\n",
            "<class 'tuple'>\n"
          ]
        }
      ]
    },
    {
      "cell_type": "code",
      "source": [
        "print(d[t])\n",
        "print(d[(1, 2)])"
      ],
      "metadata": {
        "colab": {
          "base_uri": "https://localhost:8080/"
        },
        "id": "Gok6ou7yYITR",
        "outputId": "2ff04e1f-6b7e-41eb-99bc-7315c3a66c80"
      },
      "execution_count": 97,
      "outputs": [
        {
          "output_type": "stream",
          "name": "stdout",
          "text": [
            "5\n",
            "1\n"
          ]
        }
      ]
    },
    {
      "cell_type": "markdown",
      "metadata": {
        "id": "qtTrYTOfFSbZ"
      },
      "source": [
        "# **Functions in Python**\n",
        "\n",
        "* Functions in python can be declared using the `def` keyword.\n",
        "* `def` is followed by function name and arguements within `( )`."
      ]
    },
    {
      "cell_type": "code",
      "execution_count": 98,
      "metadata": {
        "id": "g2OlAuFPFmBI",
        "colab": {
          "base_uri": "https://localhost:8080/"
        },
        "outputId": "f0f47d69-649e-4428-8d9c-76e784b66638"
      },
      "outputs": [
        {
          "output_type": "stream",
          "name": "stdout",
          "text": [
            "Welcome Dhruv\n"
          ]
        }
      ],
      "source": [
        "def myFunction(username):\n",
        "    print(\"Welcome\", username)\n",
        "\n",
        "myFunction(\"Dhruv\")"
      ]
    },
    {
      "cell_type": "code",
      "execution_count": 99,
      "metadata": {
        "id": "7xo6HvxuGyfC",
        "colab": {
          "base_uri": "https://localhost:8080/"
        },
        "outputId": "807a871e-6928-4d31-907a-beb26d275acc"
      },
      "outputs": [
        {
          "output_type": "stream",
          "name": "stdout",
          "text": [
            "Username: Dhruv\n",
            "Email ID: dhruv@mail.com\n"
          ]
        }
      ],
      "source": [
        "# Multiple Arguements\n",
        "def myFunc(username, email):\n",
        "    print(\"Username:\", username)\n",
        "    print(\"Email ID:\", email)\n",
        "\n",
        "myFunc(\"Dhruv\", \"dhruv@mail.com\")"
      ]
    },
    {
      "cell_type": "markdown",
      "metadata": {
        "id": "Mr-AFW4lGLzl"
      },
      "source": [
        "* For multiple parameters, arguements can also be sent in the form of `key = value` synatax."
      ]
    },
    {
      "cell_type": "code",
      "execution_count": 100,
      "metadata": {
        "id": "UCbiWPYuHKwM",
        "colab": {
          "base_uri": "https://localhost:8080/"
        },
        "outputId": "e04bd412-a633-40d5-95e0-edf5b53ef81b"
      },
      "outputs": [
        {
          "output_type": "stream",
          "name": "stdout",
          "text": [
            "Username: Dhruv\n",
            "Email ID: dhruv@mail.com\n"
          ]
        }
      ],
      "source": [
        "def myFunc(username, email):\n",
        "    print(\"Username:\", username)\n",
        "    print(\"Email ID:\", email)\n",
        "\n",
        "myFunc(email=\"dhruv@mail.com\", username=\"Dhruv\")"
      ]
    },
    {
      "cell_type": "markdown",
      "source": [
        "# Classes in Python"
      ],
      "metadata": {
        "id": "CFJIy_otSScQ"
      }
    },
    {
      "cell_type": "code",
      "source": [
        "# The Syntax for defining the classes is pretty straightforward.\n",
        "\n",
        "class Greeter:\n",
        "    # Constructor\n",
        "    def __init__(self, name):\n",
        "        self.name = name  # Create an instance variable\n",
        "\n",
        "    # Instance method\n",
        "    def greet(self, loud=False):\n",
        "        if loud:\n",
        "          print('HELLO, {}'.format(self.name.upper()))\n",
        "        else:\n",
        "          print('Hello, {}!'.format(self.name))\n",
        "\n",
        "g = Greeter('Fred')  # Construct an instance of the Greeter class\n",
        "g.greet()            # Call an instance method; prints \"Hello, Fred\"\n",
        "g.greet(loud=True)   # Call an instance method; prints \"HELLO, FRED!\""
      ],
      "metadata": {
        "id": "E1ff14yPSZvD",
        "outputId": "00304305-9611-42c2-ebba-36405f173b1d",
        "colab": {
          "base_uri": "https://localhost:8080/"
        }
      },
      "execution_count": 101,
      "outputs": [
        {
          "output_type": "stream",
          "name": "stdout",
          "text": [
            "Hello, Fred!\n",
            "HELLO, FRED\n"
          ]
        }
      ]
    },
    {
      "cell_type": "markdown",
      "source": [
        "## Coding Problem - 3"
      ],
      "metadata": {
        "id": "f_Sc6GbwT9WY"
      }
    },
    {
      "cell_type": "code",
      "source": [
        "# Create a function that checks if a given string is a palindrome.\n",
        "def palin(s):\n",
        "    flag = 0\n",
        "    s = s.lower()\n",
        "    length = len(s)\n",
        "\n",
        "    for i in range(length // 2):\n",
        "        if s[i] != s[length - 1 - i]:\n",
        "            flag = 1\n",
        "            break\n",
        "\n",
        "    if flag == 1:\n",
        "        print('not palin')\n",
        "    else:\n",
        "        print('palin')\n",
        "\n",
        "palin(\"racecar\")"
      ],
      "metadata": {
        "id": "12ZKlprzT7as",
        "outputId": "323f5e33-bd40-4424-d184-b0d3f7ee3d52",
        "colab": {
          "base_uri": "https://localhost:8080/"
        }
      },
      "execution_count": 104,
      "outputs": [
        {
          "output_type": "stream",
          "name": "stdout",
          "text": [
            "palin\n"
          ]
        }
      ]
    },
    {
      "cell_type": "code",
      "source": [
        "# Create a program that removes duplicate elements from a list.\n",
        "def remove_duplicates(lst):\n",
        "    unique_list = []\n",
        "    for item in lst:\n",
        "        if item not in unique_list:\n",
        "            unique_list.append(item)\n",
        "    return unique_list\n",
        "\n",
        "original_list = [1, 2, 3, 4, 2, 3, 5, 6, 7, 7, 8, 9]\n",
        "unique_list = remove_duplicates(original_list)\n",
        "print(\"Original list:\", original_list)\n",
        "print(\"List with duplicates removed:\", unique_list)\n"
      ],
      "metadata": {
        "id": "nazCXqINUGxi",
        "outputId": "b6c5e170-f79f-4deb-e553-3fa8a9744fb2",
        "colab": {
          "base_uri": "https://localhost:8080/"
        }
      },
      "execution_count": 105,
      "outputs": [
        {
          "output_type": "stream",
          "name": "stdout",
          "text": [
            "Original list: [1, 2, 3, 4, 2, 3, 5, 6, 7, 7, 8, 9]\n",
            "List with duplicates removed: [1, 2, 3, 4, 5, 6, 7, 8, 9]\n"
          ]
        }
      ]
    },
    {
      "cell_type": "code",
      "source": [
        "class BankAccount:\n",
        "    def __init__(self, balance=0):\n",
        "        self.balance = balance\n",
        "\n",
        "    def deposit(self, amount):\n",
        "        if amount > 0:\n",
        "            self.balance += amount\n",
        "            print(f\"Deposited {amount}. Current balance: {self.balance}\")\n",
        "        else:\n",
        "            print(\"Invalid deposit amount. Please enter a positive number.\")\n",
        "\n",
        "    def withdraw(self, amount):\n",
        "        if 0 < amount <= self.balance:\n",
        "            self.balance -= amount\n",
        "            print(f\"Withdrew {amount}. Current balance: {self.balance}\")\n",
        "        else:\n",
        "            print(\"Insufficient funds or invalid withdrawal amount.\")\n",
        "\n",
        "    def check_balance(self):\n",
        "        print(f\"Current balance: {self.balance}\")\n",
        "\n",
        "\n",
        "account = BankAccount(100)\n",
        "account.check_balance()\n",
        "account.deposit(500)\n",
        "account.withdraw(200)\n",
        "account.check_balance()\n"
      ],
      "metadata": {
        "id": "WynpNM5bUS_Z",
        "outputId": "c9033e82-dfee-489c-dc49-6802273fa43e",
        "colab": {
          "base_uri": "https://localhost:8080/"
        }
      },
      "execution_count": 110,
      "outputs": [
        {
          "output_type": "stream",
          "name": "stdout",
          "text": [
            "Current balance: 100\n",
            "Deposited 500. Current balance: 600\n",
            "Withdrew 200. Current balance: 400\n",
            "Current balance: 400\n"
          ]
        }
      ]
    },
    {
      "cell_type": "markdown",
      "source": [
        "# **Python pip**\n",
        "\n",
        "\n",
        "* Python supports a lot of third-party packages which can be easily installed using pip.\n",
        "* **pip** is a package installer for python.\n",
        "* Note that pip is not a python function. It is a command line tool which is used to manage packages in python."
      ],
      "metadata": {
        "id": "h0jlV69h2bu0"
      }
    },
    {
      "cell_type": "markdown",
      "source": [
        "## **Installing a package**\n",
        "\n",
        "* If you have python installed on your local machine, you can try using pip on your command prompt."
      ],
      "metadata": {
        "id": "BMz2JXtW2mxl"
      }
    },
    {
      "cell_type": "code",
      "source": [
        "pip install numpy"
      ],
      "metadata": {
        "colab": {
          "base_uri": "https://localhost:8080/"
        },
        "id": "f7x5ltLk2p2u",
        "outputId": "245c7f37-a7e3-4e78-abee-d96c4ec35e99"
      },
      "execution_count": null,
      "outputs": [
        {
          "output_type": "stream",
          "name": "stdout",
          "text": [
            "Looking in indexes: https://pypi.org/simple, https://us-python.pkg.dev/colab-wheels/public/simple/\n",
            "Requirement already satisfied: numpy in /usr/local/lib/python3.8/dist-packages (1.21.6)\n"
          ]
        }
      ]
    },
    {
      "cell_type": "markdown",
      "source": [
        "* You can find numerous useful python packages at https://pypi.org/"
      ],
      "metadata": {
        "id": "IJoKkPbO28OK"
      }
    },
    {
      "cell_type": "markdown",
      "source": [
        "## **Using a package**\n",
        "\n",
        "* To use a package in python, we need to first import it to our code using the `import` and `from` keyword.\n",
        "\n"
      ],
      "metadata": {
        "id": "KDsSepf63E1O"
      }
    },
    {
      "cell_type": "code",
      "source": [
        "from math import sqrt\n",
        "x=3\n",
        "y=4\n",
        "z=sqrt(x**2+y**2)\n",
        "print(z)"
      ],
      "metadata": {
        "colab": {
          "base_uri": "https://localhost:8080/"
        },
        "id": "h4jIJQ2y3IcO",
        "outputId": "c7b584dc-3a18-4528-8adc-93828885e94c"
      },
      "execution_count": null,
      "outputs": [
        {
          "output_type": "stream",
          "name": "stdout",
          "text": [
            "5.0\n"
          ]
        }
      ]
    },
    {
      "cell_type": "markdown",
      "source": [
        "# Numpy"
      ],
      "metadata": {
        "id": "rzCLwoiqUxaC"
      }
    },
    {
      "cell_type": "markdown",
      "source": [
        "Numpy is the core library for scientific computing in Python. It provides a high-performance multidimensional array object, and tools for working with these arrays."
      ],
      "metadata": {
        "id": "Vb_omzkGU68c"
      }
    },
    {
      "cell_type": "markdown",
      "source": [
        "# **Extending Python Using NumPy**\n",
        "\n",
        "* Due to the way that a Python list is implemented, accessing items in a large list is computationally expensive.\n",
        "\n",
        "*   The main problem with the list is that, to allow a list to have non-uniform data types, each item in the list is stored in a memory location, with the list containing an \"array\" of pointers to each of these locations.   \n",
        "*  In NumPy, an array is of type `ndarray` (n-dimensional array), and all the elements must be of the same type.\n",
        "\n"
      ],
      "metadata": {
        "id": "P2Z-oQ9F3oDk"
      }
    },
    {
      "cell_type": "markdown",
      "source": [
        "# Creating NumPy Arrays"
      ],
      "metadata": {
        "id": "sBJjFOK_DJ1u"
      }
    },
    {
      "cell_type": "code",
      "source": [
        "import numpy as np\n",
        "arr=np.array([1,2,3,4,5])\n",
        "print(arr)\n",
        "a1=np.arange(10) #Created a range from 0 to 9\n",
        "print(a1)\n",
        "print(a1.shape)"
      ],
      "metadata": {
        "colab": {
          "base_uri": "https://localhost:8080/"
        },
        "id": "J7WQXKVRDjnm",
        "outputId": "3de49099-e86f-40bf-8233-cb9497f8de50"
      },
      "execution_count": 111,
      "outputs": [
        {
          "output_type": "stream",
          "name": "stdout",
          "text": [
            "[1 2 3 4 5]\n",
            "[0 1 2 3 4 5 6 7 8 9]\n",
            "(10,)\n"
          ]
        }
      ]
    },
    {
      "cell_type": "markdown",
      "source": [
        "* To create an array of a specific size filled with 0's, we use the zeros() function."
      ],
      "metadata": {
        "id": "K6SLxaxQD_-8"
      }
    },
    {
      "cell_type": "code",
      "source": [
        "a2= np.zeros(5) # Creates an array with all 0's\n",
        "print(a2)\n",
        "print(a2.shape)"
      ],
      "metadata": {
        "id": "FYqsyOkkELrw",
        "outputId": "27c21f88-18d2-41e3-86f9-60d94c074542",
        "colab": {
          "base_uri": "https://localhost:8080/"
        }
      },
      "execution_count": 112,
      "outputs": [
        {
          "output_type": "stream",
          "name": "stdout",
          "text": [
            "[0. 0. 0. 0. 0.]\n",
            "(5,)\n"
          ]
        }
      ]
    },
    {
      "cell_type": "markdown",
      "source": [
        "* We can also create two-dimensional arrays using the zeros() function"
      ],
      "metadata": {
        "id": "jLOxpHcmEvHd"
      }
    },
    {
      "cell_type": "code",
      "source": [
        "a3=np.zeros((2,3)) #Array with 2 rows and 3 columns; This array has all zeros.\n",
        "print(a3.shape)\n",
        "print(a3)"
      ],
      "metadata": {
        "colab": {
          "base_uri": "https://localhost:8080/"
        },
        "id": "AUPbYnQ4E374",
        "outputId": "cc6ef49c-5265-4e8c-de45-392e08fcd0c0"
      },
      "execution_count": 113,
      "outputs": [
        {
          "output_type": "stream",
          "name": "stdout",
          "text": [
            "(2, 3)\n",
            "[[0. 0. 0.]\n",
            " [0. 0. 0.]]\n"
          ]
        }
      ]
    },
    {
      "cell_type": "markdown",
      "source": [
        "* If we want an array filled with a specific number instead of 0, use the `full()` function"
      ],
      "metadata": {
        "id": "B8vIoVPPFhrJ"
      }
    },
    {
      "cell_type": "code",
      "source": [
        "a4= np.full((3,3),8)\n",
        "print(a4)"
      ],
      "metadata": {
        "colab": {
          "base_uri": "https://localhost:8080/"
        },
        "id": "fAJOoHnJFwUT",
        "outputId": "bd0af94c-e254-4d5f-e664-3300fa1d22d1"
      },
      "execution_count": 114,
      "outputs": [
        {
          "output_type": "stream",
          "name": "stdout",
          "text": [
            "[[8 8 8]\n",
            " [8 8 8]\n",
            " [8 8 8]]\n"
          ]
        }
      ]
    },
    {
      "cell_type": "markdown",
      "source": [
        "* The `eye()` function returns a 2-D array with ones on the diagonal and zeros elsewhere. For eg."
      ],
      "metadata": {
        "id": "bePy-K6mF-hK"
      }
    },
    {
      "cell_type": "code",
      "source": [
        "a5= np.eye(4) # 4x4 identity matrix\n",
        "print(a5)"
      ],
      "metadata": {
        "colab": {
          "base_uri": "https://localhost:8080/"
        },
        "id": "77xXEK-nGKun",
        "outputId": "4f62f2bd-a1ec-4b58-c89b-db0cfae0790f"
      },
      "execution_count": 115,
      "outputs": [
        {
          "output_type": "stream",
          "name": "stdout",
          "text": [
            "[[1. 0. 0. 0.]\n",
            " [0. 1. 0. 0.]\n",
            " [0. 0. 1. 0.]\n",
            " [0. 0. 0. 1.]]\n"
          ]
        }
      ]
    },
    {
      "cell_type": "markdown",
      "source": [
        "* To create an array filled with random numbers, we can use the `random()` function from the `numpy.random` module."
      ],
      "metadata": {
        "id": "76zL4MwkGbvv"
      }
    },
    {
      "cell_type": "code",
      "source": [
        "a6= np.random.random((2,4)) # A 2x4 Array with random values.\n",
        "print(a6)"
      ],
      "metadata": {
        "colab": {
          "base_uri": "https://localhost:8080/"
        },
        "id": "AtF-SzBeGq--",
        "outputId": "c44cd448-1992-4cc2-ea6d-91a617ff2fef"
      },
      "execution_count": 116,
      "outputs": [
        {
          "output_type": "stream",
          "name": "stdout",
          "text": [
            "[[0.73945206 0.05410867 0.88376626 0.10960006]\n",
            " [0.16900091 0.48977387 0.58767403 0.13161511]]\n"
          ]
        }
      ]
    },
    {
      "cell_type": "markdown",
      "source": [
        "\n",
        "# Array Indexing\n",
        "\n",
        "* Accessing elements in the array is similar to accessing elements in a Python List."
      ],
      "metadata": {
        "id": "T-LDxFmxItq3"
      }
    },
    {
      "cell_type": "code",
      "source": [
        "list1= [1,2,3,4,5]\n",
        "list2= [6,7,8,9,0]\n",
        "r1 = np.array([list1,list2])\n",
        "print(r1)\n",
        "print(r1.shape) # 2 rows and 5 columns\n",
        "print(r1[0,0])\n",
        "print(r1[0,1])"
      ],
      "metadata": {
        "colab": {
          "base_uri": "https://localhost:8080/"
        },
        "id": "ZwWS9xzDJF1K",
        "outputId": "67f791b5-b68c-4ffa-a349-9847f8d594d1"
      },
      "execution_count": 117,
      "outputs": [
        {
          "output_type": "stream",
          "name": "stdout",
          "text": [
            "[[1 2 3 4 5]\n",
            " [6 7 8 9 0]]\n",
            "(2, 5)\n",
            "1\n",
            "2\n"
          ]
        }
      ]
    },
    {
      "cell_type": "markdown",
      "source": [
        "## Boolean Indexing"
      ],
      "metadata": {
        "id": "X4JtPP8DKOlq"
      }
    },
    {
      "cell_type": "code",
      "source": [
        "r2=np.array(list1)\n",
        "print(r2)\n",
        "print(r2>2) # Prints a list containing boolean values.\n",
        "print(r2[r2>2]) # [3,4,5]\n",
        "\n",
        "#Write a code to list all the odd numbers from a list of numbers using boolean indexing.\n",
        "nums= np.arange(10)\n",
        "print(nums)\n",
        "odd_nums= nums[nums%2==1]\n",
        "print(odd_nums)\n"
      ],
      "metadata": {
        "id": "MUIMqtrbK1Qi",
        "outputId": "620cf75b-9d20-4bad-b208-29d764a8d189",
        "colab": {
          "base_uri": "https://localhost:8080/"
        }
      },
      "execution_count": 118,
      "outputs": [
        {
          "output_type": "stream",
          "name": "stdout",
          "text": [
            "[1 2 3 4 5]\n",
            "[False False  True  True  True]\n",
            "[3 4 5]\n",
            "[0 1 2 3 4 5 6 7 8 9]\n",
            "[1 3 5 7 9]\n"
          ]
        }
      ]
    },
    {
      "cell_type": "markdown",
      "source": [
        "## Slicing Arrays\n",
        "\n",
        "* Very important feature of NumPy, very useful in ML.\n",
        "* Similar to Python List."
      ],
      "metadata": {
        "id": "xSlkMkTlMfi9"
      }
    },
    {
      "cell_type": "code",
      "source": [
        "a=np.array([[1,2,3,4,5],[6,7,8,9,10],[11,12,13,14,15]])\n",
        "print(a)"
      ],
      "metadata": {
        "colab": {
          "base_uri": "https://localhost:8080/"
        },
        "id": "Vfvv6yNCNVBi",
        "outputId": "6eefd42c-0e39-46a3-85a0-b1e3440ce723"
      },
      "execution_count": 119,
      "outputs": [
        {
          "output_type": "stream",
          "name": "stdout",
          "text": [
            "[[ 1  2  3  4  5]\n",
            " [ 6  7  8  9 10]\n",
            " [11 12 13 14 15]]\n"
          ]
        }
      ]
    },
    {
      "cell_type": "markdown",
      "source": [
        "* Slicing has the syntax: `start:stop`. So for a 2-D array it becomes:  `[start:stop, start:stop]`"
      ],
      "metadata": {
        "id": "xZc9of11NqrX"
      }
    },
    {
      "cell_type": "code",
      "source": [
        "# We will extract the last two rows and the first two columns using slicing.\n",
        "b1 = a[0:,:2] #row 1 to the last row, and the first 2 columns\n",
        "print(b1)\n",
        "\n"
      ],
      "metadata": {
        "colab": {
          "base_uri": "https://localhost:8080/"
        },
        "id": "mbc3X9o6OoAb",
        "outputId": "f2134286-69a7-4224-9e65-1678b2888cbd"
      },
      "execution_count": 120,
      "outputs": [
        {
          "output_type": "stream",
          "name": "stdout",
          "text": [
            "[[ 1  2]\n",
            " [ 6  7]\n",
            " [11 12]]\n"
          ]
        }
      ]
    },
    {
      "cell_type": "code",
      "source": [
        "#With negative indexing\n",
        "b2= a[-3:,-5:-3]\n",
        "print(b2)"
      ],
      "metadata": {
        "id": "4SRKyVF7TceD",
        "outputId": "fe45f046-ee81-4be3-da61-642ef1f01d67",
        "colab": {
          "base_uri": "https://localhost:8080/"
        }
      },
      "execution_count": 121,
      "outputs": [
        {
          "output_type": "stream",
          "name": "stdout",
          "text": [
            "[[ 1  2]\n",
            " [ 6  7]\n",
            " [11 12]]\n"
          ]
        }
      ]
    },
    {
      "cell_type": "markdown",
      "source": [
        "Point to Note: Result of slicing is dependent on how you slice it. For eg.\n"
      ],
      "metadata": {
        "id": "X_to1MF_Tysu"
      }
    },
    {
      "cell_type": "code",
      "source": [
        "b3=a[2:,:] # row 2 onwards and all columns.\n",
        "print(b3)\n",
        "print(b3.shape) # Here the result is rank 2. # Rank is simply the number of dimensions(or axes) an array has"
      ],
      "metadata": {
        "colab": {
          "base_uri": "https://localhost:8080/"
        },
        "id": "SSMpKGboT-Qb",
        "outputId": "b85cd7d8-619b-4a9e-bf8a-39092d9b1387"
      },
      "execution_count": 122,
      "outputs": [
        {
          "output_type": "stream",
          "name": "stdout",
          "text": [
            "[[11 12 13 14 15]]\n",
            "(1, 5)\n"
          ]
        }
      ]
    },
    {
      "cell_type": "code",
      "source": [
        "b4=a[2,:]\n",
        "print(b4)\n",
        "print(b4.shape)"
      ],
      "metadata": {
        "colab": {
          "base_uri": "https://localhost:8080/"
        },
        "id": "mw_DaX9-U9Ke",
        "outputId": "d5f5d9a2-06cd-49d2-f87b-f8c6b612a2c7"
      },
      "execution_count": 123,
      "outputs": [
        {
          "output_type": "stream",
          "name": "stdout",
          "text": [
            "[11 12 13 14 15]\n",
            "(5,)\n"
          ]
        }
      ]
    },
    {
      "cell_type": "markdown",
      "source": [
        "## Reshaping the Arrays\n",
        "\n",
        "* You can reshape the arrays to other dimensions using the `reshape()` keyword."
      ],
      "metadata": {
        "id": "UzASH7zsVIaN"
      }
    },
    {
      "cell_type": "code",
      "source": [
        "b4 = b4.reshape(1,-1) # First arguement indicates the number of rows.\n",
        "                      # -1 indicates that we leave it to the reshape() function to create the correct number of columns.\n",
        "                      # You can also specify the number of columns in the second argument\n",
        "print(b4)\n",
        "print(b4.shape)"
      ],
      "metadata": {
        "colab": {
          "base_uri": "https://localhost:8080/"
        },
        "id": "sRAwh3P5VVwS",
        "outputId": "596be3e9-102d-414b-8558-5f7af4ec2786"
      },
      "execution_count": 124,
      "outputs": [
        {
          "output_type": "stream",
          "name": "stdout",
          "text": [
            "[[11 12 13 14 15]]\n",
            "(1, 5)\n"
          ]
        }
      ]
    },
    {
      "cell_type": "markdown",
      "source": [
        "## Broadcasting"
      ],
      "metadata": {
        "id": "XgRTJ4ZiTjEM"
      }
    },
    {
      "cell_type": "markdown",
      "source": [
        "Broadcasting is a powerful mechanism that allows numpy to work with arrays of different shapes when performing arithmetic operations. Frequently we have a smaller array and a larger array, and we want to use the smaller array multiple times to perform some operation on the larger array.\n",
        "\n",
        "For example"
      ],
      "metadata": {
        "id": "DtxFuG2ITvGO"
      }
    },
    {
      "cell_type": "code",
      "source": [
        "# Given a matrix X which is (nx1), we want to make a matrix such that\n",
        "''' [1, x1, (x1)^2, (x1)^3, ......, (xn)^n\n",
        "     1, x2, (x2)^2, (x2)^3, ......, (xn)^n\n",
        "     ...................\n",
        "     .\n",
        "     .\n",
        "     .\n",
        "     .\n",
        "     .\n",
        "     1, xn, (xn)^2, (xn)^3, ......., (xn)^n]\n",
        "'''\n",
        "#Give a Brute Force Approach using for l\n",
        "\n",
        "\n",
        "X = np.array([1,2,3,4,5]).reshape(5,1)\n",
        "print(X.shape)\n",
        "pow = np.arange(0,len(X))\n",
        "mat = X ** pow\n",
        "print(mat)"
      ],
      "metadata": {
        "colab": {
          "base_uri": "https://localhost:8080/"
        },
        "id": "vsJSTBvmTisE",
        "outputId": "0357ed57-f10c-454a-c0d5-0ee1364be766"
      },
      "execution_count": 125,
      "outputs": [
        {
          "output_type": "stream",
          "name": "stdout",
          "text": [
            "(5, 1)\n",
            "[[  1   1   1   1   1]\n",
            " [  1   2   4   8  16]\n",
            " [  1   3   9  27  81]\n",
            " [  1   4  16  64 256]\n",
            " [  1   5  25 125 625]]\n"
          ]
        }
      ]
    },
    {
      "cell_type": "markdown",
      "source": [
        "## Coding Problem-4\n"
      ],
      "metadata": {
        "id": "GhSlD4_2Uqm1"
      }
    },
    {
      "cell_type": "code",
      "source": [
        "## Write a program that creates a 3x3 matrix with values ranging from 1 to 9. Then, modify the matrix by doubling the values of the second row.\n",
        "\n",
        "import numpy as np\n",
        "\n",
        "matrix = np.arange(1, 10).reshape(3, 3)\n",
        "\n",
        "matrix[1, :] *= 2\n",
        "\n",
        "print(\"Modified Matrix:\")\n",
        "print(matrix)"
      ],
      "metadata": {
        "id": "86bEejFgUt0P",
        "outputId": "aaa855d2-0a11-4f9e-e15d-58c47233cd8e",
        "colab": {
          "base_uri": "https://localhost:8080/"
        }
      },
      "execution_count": 126,
      "outputs": [
        {
          "output_type": "stream",
          "name": "stdout",
          "text": [
            "Modified Matrix:\n",
            "[[ 1  2  3]\n",
            " [ 8 10 12]\n",
            " [ 7  8  9]]\n"
          ]
        }
      ]
    },
    {
      "cell_type": "markdown",
      "source": [
        "# **Let's Code: Hangman Game**\n",
        "\n",
        "> Hangman is a simple paper-pencil, word-guessing game where the player must guess the given word within a certain number of guesses.\n",
        "Let's code a simple hangman game in python!\n",
        "\n"
      ],
      "metadata": {
        "id": "pXr5obr4KcwE"
      }
    },
    {
      "cell_type": "code",
      "source": [
        "import random\n",
        "\n",
        "fig = [\"\\n ____\\n|     \\n|    O\\n|       \\n|     \\n|       \\n\",\n",
        "       \"\\n ____\\n|     \\n|    O\\n|    |  \\n|    |\\n|       \\n\",\n",
        "       \"\\n ____\\n|     \\n|    O\\n|   /|  \\n|    |\\n|       \\n\",\n",
        "       \"\\n ____\\n|     \\n|    O\\n|   /|\\\\\\n|    |\\n|       \\n\",\n",
        "       \"\\n ____\\n|     \\n|    O\\n|   /|\\\\\\n|    |\\n|   /   \\n\",\n",
        "       \"\\n ____\\n|     \\n|    O\\n|   /|\\\\\\n|    |\\n|   / \\\\\\n\",\n",
        "       \"\\n ____\\n|    |\\n|    O\\n|   /|\\\\\\n|    |\\n|   / \\\\\\n\"]\n",
        "\n",
        "\n",
        "# Your Code here. Please avoid using Chat-GPT :)\n",
        "# Brownie points for those who will implement the game using Object Oriented Programming Concepts.\n",
        "\n",
        "\n",
        "\n",
        "\n"
      ],
      "metadata": {
        "id": "soq8soYLKg4g"
      },
      "execution_count": 39,
      "outputs": []
    },
    {
      "cell_type": "markdown",
      "source": [
        "For more examples on python and numpy, you can also go through the following tutorial.\n",
        "\n",
        "https://cs231n.github.io/python-numpy-tutorial/\n"
      ],
      "metadata": {
        "id": "p2ZI_dZfdZ1Q"
      }
    }
  ]
}